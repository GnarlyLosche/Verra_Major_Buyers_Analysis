{
 "cells": [
  {
   "cell_type": "code",
   "execution_count": 1,
   "metadata": {},
   "outputs": [],
   "source": [
    "\n",
    "import csv\n",
    "import pandas as pd\n",
    "import matplotlib.pyplot as plt\n",
    "import seaborn as sns\n",
    "from pandasql import sqldf\n",
    "import numpy as np\n",
    "import datetime\n",
    "import waterfall_chart"
   ]
  },
  {
   "cell_type": "raw",
   "metadata": {},
   "source": [
    "For this notebook, I want to understand the types of carbon projects and the type of credits they are generating, and what types of credits different companies are investing in."
   ]
  },
  {
   "cell_type": "code",
   "execution_count": 2,
   "metadata": {},
   "outputs": [],
   "source": [
    "verra_df = pd.read_csv('../Data/VCU_Registry_Result_V2_5.2.22 copy.csv',\n",
    "                      parse_dates = ['Issuance Date', 'Retirement/Cancellation Date', 'Vintage Start', 'Vintage End'])"
   ]
  },
  {
   "cell_type": "code",
   "execution_count": 3,
   "metadata": {},
   "outputs": [
    {
     "data": {
      "text/html": [
       "<div>\n",
       "<style scoped>\n",
       "    .dataframe tbody tr th:only-of-type {\n",
       "        vertical-align: middle;\n",
       "    }\n",
       "\n",
       "    .dataframe tbody tr th {\n",
       "        vertical-align: top;\n",
       "    }\n",
       "\n",
       "    .dataframe thead th {\n",
       "        text-align: right;\n",
       "    }\n",
       "</style>\n",
       "<table border=\"1\" class=\"dataframe\">\n",
       "  <thead>\n",
       "    <tr style=\"text-align: right;\">\n",
       "      <th></th>\n",
       "      <th>Issuance Date</th>\n",
       "      <th>Sustainable Development Goals</th>\n",
       "      <th>Vintage Start</th>\n",
       "      <th>Vintage End</th>\n",
       "      <th>ID</th>\n",
       "      <th>Name</th>\n",
       "      <th>Country</th>\n",
       "      <th>Project Type</th>\n",
       "      <th>Methodology</th>\n",
       "      <th>Total Vintage Quantity</th>\n",
       "      <th>Quantity Issued</th>\n",
       "      <th>Serial Number</th>\n",
       "      <th>Additional Certifications</th>\n",
       "      <th>Retirement/Cancellation Date</th>\n",
       "      <th>Retirement Beneficiary</th>\n",
       "      <th>Retirement Reason</th>\n",
       "      <th>Retirement Details</th>\n",
       "    </tr>\n",
       "  </thead>\n",
       "  <tbody>\n",
       "    <tr>\n",
       "      <th>0</th>\n",
       "      <td>2022-04-29</td>\n",
       "      <td>NaN</td>\n",
       "      <td>2020-01-11</td>\n",
       "      <td>2020-12-31</td>\n",
       "      <td>682</td>\n",
       "      <td>Wind Power Project at Anthiyur, Tamil Nadu</td>\n",
       "      <td>India</td>\n",
       "      <td>Energy industries (renewable/non-renewable sou...</td>\n",
       "      <td>AMS-I.D.</td>\n",
       "      <td>663</td>\n",
       "      <td>663</td>\n",
       "      <td>12990-464677897-464678559-VCS-VCU-997-VER-IN-1...</td>\n",
       "      <td>NaN</td>\n",
       "      <td>NaT</td>\n",
       "      <td>NaN</td>\n",
       "      <td>NaN</td>\n",
       "      <td>NaN</td>\n",
       "    </tr>\n",
       "    <tr>\n",
       "      <th>1</th>\n",
       "      <td>2022-04-29</td>\n",
       "      <td>NaN</td>\n",
       "      <td>2021-01-01</td>\n",
       "      <td>2021-08-31</td>\n",
       "      <td>682</td>\n",
       "      <td>Wind Power Project at Anthiyur, Tamil Nadu</td>\n",
       "      <td>India</td>\n",
       "      <td>Energy industries (renewable/non-renewable sou...</td>\n",
       "      <td>AMS-I.D.</td>\n",
       "      <td>22486</td>\n",
       "      <td>22486</td>\n",
       "      <td>12991-464678560-464701045-VCS-VCU-997-VER-IN-1...</td>\n",
       "      <td>NaN</td>\n",
       "      <td>NaT</td>\n",
       "      <td>NaN</td>\n",
       "      <td>NaN</td>\n",
       "      <td>NaN</td>\n",
       "    </tr>\n",
       "    <tr>\n",
       "      <th>2</th>\n",
       "      <td>2022-04-29</td>\n",
       "      <td>NaN</td>\n",
       "      <td>2020-08-28</td>\n",
       "      <td>2020-12-31</td>\n",
       "      <td>1319</td>\n",
       "      <td>Small-Scale Hydropower Project Sahanivotry In ...</td>\n",
       "      <td>Madagascar</td>\n",
       "      <td>Energy industries (renewable/non-renewable sou...</td>\n",
       "      <td>ACM0002</td>\n",
       "      <td>4773</td>\n",
       "      <td>4773</td>\n",
       "      <td>12992-464701046-464705818-VCS-VCU-997-VER-MG-1...</td>\n",
       "      <td>NaN</td>\n",
       "      <td>NaT</td>\n",
       "      <td>NaN</td>\n",
       "      <td>NaN</td>\n",
       "      <td>NaN</td>\n",
       "    </tr>\n",
       "    <tr>\n",
       "      <th>3</th>\n",
       "      <td>2022-04-29</td>\n",
       "      <td>NaN</td>\n",
       "      <td>2021-01-01</td>\n",
       "      <td>2021-09-30</td>\n",
       "      <td>1319</td>\n",
       "      <td>Small-Scale Hydropower Project Sahanivotry In ...</td>\n",
       "      <td>Madagascar</td>\n",
       "      <td>Energy industries (renewable/non-renewable sou...</td>\n",
       "      <td>ACM0002</td>\n",
       "      <td>20747</td>\n",
       "      <td>20747</td>\n",
       "      <td>12993-464705819-464726565-VCS-VCU-997-VER-MG-1...</td>\n",
       "      <td>NaN</td>\n",
       "      <td>NaT</td>\n",
       "      <td>NaN</td>\n",
       "      <td>NaN</td>\n",
       "      <td>NaN</td>\n",
       "    </tr>\n",
       "    <tr>\n",
       "      <th>4</th>\n",
       "      <td>2022-04-29</td>\n",
       "      <td>NaN</td>\n",
       "      <td>2016-01-01</td>\n",
       "      <td>2016-12-31</td>\n",
       "      <td>1408</td>\n",
       "      <td>Chyulu Hills REDD+ Project</td>\n",
       "      <td>Kenya</td>\n",
       "      <td>Agriculture Forestry and Other Land Use</td>\n",
       "      <td>VM0009</td>\n",
       "      <td>617707</td>\n",
       "      <td>70000</td>\n",
       "      <td>12994-464726566-464796565-VCS-VCU-263-VER-KE-1...</td>\n",
       "      <td>CCB-Biodiversity Gold; CCB-Climate Gold; CCB-C...</td>\n",
       "      <td>NaT</td>\n",
       "      <td>NaN</td>\n",
       "      <td>NaN</td>\n",
       "      <td>NaN</td>\n",
       "    </tr>\n",
       "  </tbody>\n",
       "</table>\n",
       "</div>"
      ],
      "text/plain": [
       "  Issuance Date Sustainable Development Goals Vintage Start Vintage End    ID  \\\n",
       "0    2022-04-29                           NaN    2020-01-11  2020-12-31   682   \n",
       "1    2022-04-29                           NaN    2021-01-01  2021-08-31   682   \n",
       "2    2022-04-29                           NaN    2020-08-28  2020-12-31  1319   \n",
       "3    2022-04-29                           NaN    2021-01-01  2021-09-30  1319   \n",
       "4    2022-04-29                           NaN    2016-01-01  2016-12-31  1408   \n",
       "\n",
       "                                                Name     Country  \\\n",
       "0         Wind Power Project at Anthiyur, Tamil Nadu       India   \n",
       "1         Wind Power Project at Anthiyur, Tamil Nadu       India   \n",
       "2  Small-Scale Hydropower Project Sahanivotry In ...  Madagascar   \n",
       "3  Small-Scale Hydropower Project Sahanivotry In ...  Madagascar   \n",
       "4                         Chyulu Hills REDD+ Project       Kenya   \n",
       "\n",
       "                                        Project Type Methodology  \\\n",
       "0  Energy industries (renewable/non-renewable sou...    AMS-I.D.   \n",
       "1  Energy industries (renewable/non-renewable sou...    AMS-I.D.   \n",
       "2  Energy industries (renewable/non-renewable sou...     ACM0002   \n",
       "3  Energy industries (renewable/non-renewable sou...     ACM0002   \n",
       "4            Agriculture Forestry and Other Land Use      VM0009   \n",
       "\n",
       "   Total Vintage Quantity  Quantity Issued  \\\n",
       "0                     663              663   \n",
       "1                   22486            22486   \n",
       "2                    4773             4773   \n",
       "3                   20747            20747   \n",
       "4                  617707            70000   \n",
       "\n",
       "                                       Serial Number  \\\n",
       "0  12990-464677897-464678559-VCS-VCU-997-VER-IN-1...   \n",
       "1  12991-464678560-464701045-VCS-VCU-997-VER-IN-1...   \n",
       "2  12992-464701046-464705818-VCS-VCU-997-VER-MG-1...   \n",
       "3  12993-464705819-464726565-VCS-VCU-997-VER-MG-1...   \n",
       "4  12994-464726566-464796565-VCS-VCU-263-VER-KE-1...   \n",
       "\n",
       "                           Additional Certifications  \\\n",
       "0                                                NaN   \n",
       "1                                                NaN   \n",
       "2                                                NaN   \n",
       "3                                                NaN   \n",
       "4  CCB-Biodiversity Gold; CCB-Climate Gold; CCB-C...   \n",
       "\n",
       "  Retirement/Cancellation Date Retirement Beneficiary Retirement Reason  \\\n",
       "0                          NaT                    NaN               NaN   \n",
       "1                          NaT                    NaN               NaN   \n",
       "2                          NaT                    NaN               NaN   \n",
       "3                          NaT                    NaN               NaN   \n",
       "4                          NaT                    NaN               NaN   \n",
       "\n",
       "  Retirement Details  \n",
       "0                NaN  \n",
       "1                NaN  \n",
       "2                NaN  \n",
       "3                NaN  \n",
       "4                NaN  "
      ]
     },
     "execution_count": 3,
     "metadata": {},
     "output_type": "execute_result"
    }
   ],
   "source": [
    "verra_df.head()"
   ]
  },
  {
   "cell_type": "markdown",
   "metadata": {},
   "source": [
    "First, cleaning column names"
   ]
  },
  {
   "cell_type": "code",
   "execution_count": 4,
   "metadata": {},
   "outputs": [],
   "source": [
    "#getting rid of spaces and slashes\n",
    "verra_df.columns = verra_df.columns.str.replace(\"\\/| |\\.\", '_', regex = True)\n",
    "verra_df.columns = verra_df.columns.str.lower()"
   ]
  },
  {
   "cell_type": "code",
   "execution_count": 5,
   "metadata": {},
   "outputs": [
    {
     "data": {
      "text/plain": [
       "Index(['issuance_date', 'sustainable_development_goals', 'vintage_start',\n",
       "       'vintage_end', 'id', 'name', 'country', 'project_type', 'methodology',\n",
       "       'total_vintage_quantity', 'quantity_issued', 'serial_number',\n",
       "       'additional_certifications', 'retirement_cancellation_date',\n",
       "       'retirement_beneficiary', 'retirement_reason', 'retirement_details'],\n",
       "      dtype='object')"
      ]
     },
     "execution_count": 5,
     "metadata": {},
     "output_type": "execute_result"
    }
   ],
   "source": [
    "verra_df.columns"
   ]
  },
  {
   "cell_type": "code",
   "execution_count": 6,
   "metadata": {},
   "outputs": [
    {
     "data": {
      "text/html": [
       "<div>\n",
       "<style scoped>\n",
       "    .dataframe tbody tr th:only-of-type {\n",
       "        vertical-align: middle;\n",
       "    }\n",
       "\n",
       "    .dataframe tbody tr th {\n",
       "        vertical-align: top;\n",
       "    }\n",
       "\n",
       "    .dataframe thead th {\n",
       "        text-align: right;\n",
       "    }\n",
       "</style>\n",
       "<table border=\"1\" class=\"dataframe\">\n",
       "  <thead>\n",
       "    <tr style=\"text-align: right;\">\n",
       "      <th></th>\n",
       "      <th>issuance_date</th>\n",
       "      <th>sustainable_development_goals</th>\n",
       "      <th>vintage_start</th>\n",
       "      <th>vintage_end</th>\n",
       "      <th>id</th>\n",
       "      <th>name</th>\n",
       "      <th>country</th>\n",
       "      <th>project_type</th>\n",
       "      <th>methodology</th>\n",
       "      <th>total_vintage_quantity</th>\n",
       "      <th>quantity_issued</th>\n",
       "      <th>serial_number</th>\n",
       "      <th>additional_certifications</th>\n",
       "      <th>retirement_cancellation_date</th>\n",
       "      <th>retirement_beneficiary</th>\n",
       "      <th>retirement_reason</th>\n",
       "      <th>retirement_details</th>\n",
       "    </tr>\n",
       "  </thead>\n",
       "  <tbody>\n",
       "  </tbody>\n",
       "</table>\n",
       "</div>"
      ],
      "text/plain": [
       "Empty DataFrame\n",
       "Columns: [issuance_date, sustainable_development_goals, vintage_start, vintage_end, id, name, country, project_type, methodology, total_vintage_quantity, quantity_issued, serial_number, additional_certifications, retirement_cancellation_date, retirement_beneficiary, retirement_reason, retirement_details]\n",
       "Index: []"
      ]
     },
     "execution_count": 6,
     "metadata": {},
     "output_type": "execute_result"
    }
   ],
   "source": [
    "verra_df.loc[verra_df['quantity_issued'].isnull()]"
   ]
  },
  {
   "cell_type": "code",
   "execution_count": 7,
   "metadata": {},
   "outputs": [],
   "source": [
    "verra_df = verra_df.loc[verra_df['quantity_issued'].notnull()]"
   ]
  },
  {
   "cell_type": "code",
   "execution_count": 8,
   "metadata": {},
   "outputs": [],
   "source": [
    "verra_df.sort_values(by='quantity_issued',\n",
    "                    ascending=False,\n",
    "                    inplace=True)"
   ]
  },
  {
   "cell_type": "code",
   "execution_count": 9,
   "metadata": {},
   "outputs": [
    {
     "data": {
      "text/html": [
       "<div>\n",
       "<style scoped>\n",
       "    .dataframe tbody tr th:only-of-type {\n",
       "        vertical-align: middle;\n",
       "    }\n",
       "\n",
       "    .dataframe tbody tr th {\n",
       "        vertical-align: top;\n",
       "    }\n",
       "\n",
       "    .dataframe thead th {\n",
       "        text-align: right;\n",
       "    }\n",
       "</style>\n",
       "<table border=\"1\" class=\"dataframe\">\n",
       "  <thead>\n",
       "    <tr style=\"text-align: right;\">\n",
       "      <th></th>\n",
       "      <th>issuance_date</th>\n",
       "      <th>sustainable_development_goals</th>\n",
       "      <th>vintage_start</th>\n",
       "      <th>vintage_end</th>\n",
       "      <th>id</th>\n",
       "      <th>name</th>\n",
       "      <th>country</th>\n",
       "      <th>project_type</th>\n",
       "      <th>methodology</th>\n",
       "      <th>total_vintage_quantity</th>\n",
       "      <th>quantity_issued</th>\n",
       "      <th>serial_number</th>\n",
       "      <th>additional_certifications</th>\n",
       "      <th>retirement_cancellation_date</th>\n",
       "      <th>retirement_beneficiary</th>\n",
       "      <th>retirement_reason</th>\n",
       "      <th>retirement_details</th>\n",
       "    </tr>\n",
       "  </thead>\n",
       "  <tbody>\n",
       "    <tr>\n",
       "      <th>49538</th>\n",
       "      <td>2019-05-21</td>\n",
       "      <td>NaN</td>\n",
       "      <td>2016-01-01</td>\n",
       "      <td>2017-12-31</td>\n",
       "      <td>1566</td>\n",
       "      <td>REDD+ Project Resguardo Indigena Unificado Sel...</td>\n",
       "      <td>Colombia</td>\n",
       "      <td>Agriculture Forestry and Other Land Use</td>\n",
       "      <td>VM0007</td>\n",
       "      <td>6404775</td>\n",
       "      <td>5250000</td>\n",
       "      <td>6709-333713222-338963221-VCU-048-APX-CO-14-156...</td>\n",
       "      <td>NaN</td>\n",
       "      <td>2019-05-21</td>\n",
       "      <td>PRIMAX COLOMBIA S.A identificada con Nit: 860....</td>\n",
       "      <td>Compliance Requirements</td>\n",
       "      <td>PRIMAX COLOMBIA S.A identificada con Nit: 860....</td>\n",
       "    </tr>\n",
       "    <tr>\n",
       "      <th>3735</th>\n",
       "      <td>2021-09-20</td>\n",
       "      <td>NaN</td>\n",
       "      <td>2016-01-01</td>\n",
       "      <td>2019-12-31</td>\n",
       "      <td>1340</td>\n",
       "      <td>Bale Mountains Eco-region REDD+ project</td>\n",
       "      <td>Ethiopia</td>\n",
       "      <td>Agriculture Forestry and Other Land Use</td>\n",
       "      <td>VM0015</td>\n",
       "      <td>4438780</td>\n",
       "      <td>2850000</td>\n",
       "      <td>11279-306091154-308941153-VCS-VCU-1507-VER-ET-...</td>\n",
       "      <td>CCB-Gold</td>\n",
       "      <td>NaT</td>\n",
       "      <td>NaN</td>\n",
       "      <td>NaN</td>\n",
       "      <td>NaN</td>\n",
       "    </tr>\n",
       "    <tr>\n",
       "      <th>23210</th>\n",
       "      <td>2020-12-30</td>\n",
       "      <td>NaN</td>\n",
       "      <td>2019-01-01</td>\n",
       "      <td>2019-12-31</td>\n",
       "      <td>1742</td>\n",
       "      <td>Hydroelectric Project in Kinnaur District in H...</td>\n",
       "      <td>India</td>\n",
       "      <td>Energy industries (renewable/non-renewable sou...</td>\n",
       "      <td>ACM0002</td>\n",
       "      <td>3683633</td>\n",
       "      <td>2720135</td>\n",
       "      <td>9375-88987455-91707589-VCS-VCU-997-VER-IN-1-17...</td>\n",
       "      <td>NaN</td>\n",
       "      <td>NaT</td>\n",
       "      <td>NaN</td>\n",
       "      <td>NaN</td>\n",
       "      <td>NaN</td>\n",
       "    </tr>\n",
       "    <tr>\n",
       "      <th>54209</th>\n",
       "      <td>2018-06-12</td>\n",
       "      <td>NaN</td>\n",
       "      <td>2010-01-11</td>\n",
       "      <td>2015-10-31</td>\n",
       "      <td>1477</td>\n",
       "      <td>Katingan Peatland Restoration and Conservation...</td>\n",
       "      <td>Indonesia</td>\n",
       "      <td>Agriculture Forestry and Other Land Use</td>\n",
       "      <td>VM0007</td>\n",
       "      <td>14165124</td>\n",
       "      <td>2539496</td>\n",
       "      <td>6250-289727777-292267272-VCU-006-APX-ID-14-147...</td>\n",
       "      <td>CCB-Gold</td>\n",
       "      <td>NaT</td>\n",
       "      <td>NaN</td>\n",
       "      <td>NaN</td>\n",
       "      <td>NaN</td>\n",
       "    </tr>\n",
       "    <tr>\n",
       "      <th>269</th>\n",
       "      <td>2022-03-31</td>\n",
       "      <td>NaN</td>\n",
       "      <td>2017-01-01</td>\n",
       "      <td>2017-12-31</td>\n",
       "      <td>934</td>\n",
       "      <td>The Mai Ndombe REDD+ Project</td>\n",
       "      <td>Congo, The Democratic Republic of The</td>\n",
       "      <td>Agriculture Forestry and Other Land Use</td>\n",
       "      <td>VM0009</td>\n",
       "      <td>4574504</td>\n",
       "      <td>2350000</td>\n",
       "      <td>12787-437069438-439419437-VCS-VCU-259-VER-CD-1...</td>\n",
       "      <td>CCB-Biodiversity Gold; CCB-Climate Gold</td>\n",
       "      <td>NaT</td>\n",
       "      <td>NaN</td>\n",
       "      <td>NaN</td>\n",
       "      <td>NaN</td>\n",
       "    </tr>\n",
       "  </tbody>\n",
       "</table>\n",
       "</div>"
      ],
      "text/plain": [
       "      issuance_date sustainable_development_goals vintage_start vintage_end  \\\n",
       "49538    2019-05-21                           NaN    2016-01-01  2017-12-31   \n",
       "3735     2021-09-20                           NaN    2016-01-01  2019-12-31   \n",
       "23210    2020-12-30                           NaN    2019-01-01  2019-12-31   \n",
       "54209    2018-06-12                           NaN    2010-01-11  2015-10-31   \n",
       "269      2022-03-31                           NaN    2017-01-01  2017-12-31   \n",
       "\n",
       "         id                                               name  \\\n",
       "49538  1566  REDD+ Project Resguardo Indigena Unificado Sel...   \n",
       "3735   1340            Bale Mountains Eco-region REDD+ project   \n",
       "23210  1742  Hydroelectric Project in Kinnaur District in H...   \n",
       "54209  1477  Katingan Peatland Restoration and Conservation...   \n",
       "269     934                       The Mai Ndombe REDD+ Project   \n",
       "\n",
       "                                     country  \\\n",
       "49538                               Colombia   \n",
       "3735                                Ethiopia   \n",
       "23210                                  India   \n",
       "54209                              Indonesia   \n",
       "269    Congo, The Democratic Republic of The   \n",
       "\n",
       "                                            project_type methodology  \\\n",
       "49538            Agriculture Forestry and Other Land Use      VM0007   \n",
       "3735             Agriculture Forestry and Other Land Use      VM0015   \n",
       "23210  Energy industries (renewable/non-renewable sou...     ACM0002   \n",
       "54209            Agriculture Forestry and Other Land Use      VM0007   \n",
       "269              Agriculture Forestry and Other Land Use      VM0009   \n",
       "\n",
       "       total_vintage_quantity  quantity_issued  \\\n",
       "49538                 6404775          5250000   \n",
       "3735                  4438780          2850000   \n",
       "23210                 3683633          2720135   \n",
       "54209                14165124          2539496   \n",
       "269                   4574504          2350000   \n",
       "\n",
       "                                           serial_number  \\\n",
       "49538  6709-333713222-338963221-VCU-048-APX-CO-14-156...   \n",
       "3735   11279-306091154-308941153-VCS-VCU-1507-VER-ET-...   \n",
       "23210  9375-88987455-91707589-VCS-VCU-997-VER-IN-1-17...   \n",
       "54209  6250-289727777-292267272-VCU-006-APX-ID-14-147...   \n",
       "269    12787-437069438-439419437-VCS-VCU-259-VER-CD-1...   \n",
       "\n",
       "                     additional_certifications retirement_cancellation_date  \\\n",
       "49538                                      NaN                   2019-05-21   \n",
       "3735                                  CCB-Gold                          NaT   \n",
       "23210                                      NaN                          NaT   \n",
       "54209                                 CCB-Gold                          NaT   \n",
       "269    CCB-Biodiversity Gold; CCB-Climate Gold                          NaT   \n",
       "\n",
       "                                  retirement_beneficiary  \\\n",
       "49538  PRIMAX COLOMBIA S.A identificada con Nit: 860....   \n",
       "3735                                                 NaN   \n",
       "23210                                                NaN   \n",
       "54209                                                NaN   \n",
       "269                                                  NaN   \n",
       "\n",
       "             retirement_reason  \\\n",
       "49538  Compliance Requirements   \n",
       "3735                       NaN   \n",
       "23210                      NaN   \n",
       "54209                      NaN   \n",
       "269                        NaN   \n",
       "\n",
       "                                      retirement_details  \n",
       "49538  PRIMAX COLOMBIA S.A identificada con Nit: 860....  \n",
       "3735                                                 NaN  \n",
       "23210                                                NaN  \n",
       "54209                                                NaN  \n",
       "269                                                  NaN  "
      ]
     },
     "execution_count": 9,
     "metadata": {},
     "output_type": "execute_result"
    }
   ],
   "source": [
    "verra_df.head()"
   ]
  },
  {
   "cell_type": "code",
   "execution_count": 10,
   "metadata": {},
   "outputs": [],
   "source": [
    "verra_df['issuance_year'] = pd.DatetimeIndex(verra_df['issuance_date']).year\n",
    "verra_df['retirement_year'] = pd.DatetimeIndex(verra_df['retirement_cancellation_date']).year"
   ]
  },
  {
   "cell_type": "code",
   "execution_count": 11,
   "metadata": {},
   "outputs": [],
   "source": [
    "verra_df['retirement_beneficiary'] = verra_df['retirement_beneficiary'].str.lower()"
   ]
  },
  {
   "cell_type": "code",
   "execution_count": 12,
   "metadata": {},
   "outputs": [
    {
     "data": {
      "text/html": [
       "<div>\n",
       "<style scoped>\n",
       "    .dataframe tbody tr th:only-of-type {\n",
       "        vertical-align: middle;\n",
       "    }\n",
       "\n",
       "    .dataframe tbody tr th {\n",
       "        vertical-align: top;\n",
       "    }\n",
       "\n",
       "    .dataframe thead th {\n",
       "        text-align: right;\n",
       "    }\n",
       "</style>\n",
       "<table border=\"1\" class=\"dataframe\">\n",
       "  <thead>\n",
       "    <tr style=\"text-align: right;\">\n",
       "      <th></th>\n",
       "      <th>issuance_date</th>\n",
       "      <th>sustainable_development_goals</th>\n",
       "      <th>vintage_start</th>\n",
       "      <th>vintage_end</th>\n",
       "      <th>id</th>\n",
       "      <th>name</th>\n",
       "      <th>country</th>\n",
       "      <th>project_type</th>\n",
       "      <th>methodology</th>\n",
       "      <th>total_vintage_quantity</th>\n",
       "      <th>quantity_issued</th>\n",
       "      <th>serial_number</th>\n",
       "      <th>additional_certifications</th>\n",
       "      <th>retirement_cancellation_date</th>\n",
       "      <th>retirement_beneficiary</th>\n",
       "      <th>retirement_reason</th>\n",
       "      <th>retirement_details</th>\n",
       "      <th>issuance_year</th>\n",
       "      <th>retirement_year</th>\n",
       "    </tr>\n",
       "  </thead>\n",
       "  <tbody>\n",
       "    <tr>\n",
       "      <th>49538</th>\n",
       "      <td>2019-05-21</td>\n",
       "      <td>NaN</td>\n",
       "      <td>2016-01-01</td>\n",
       "      <td>2017-12-31</td>\n",
       "      <td>1566</td>\n",
       "      <td>REDD+ Project Resguardo Indigena Unificado Sel...</td>\n",
       "      <td>Colombia</td>\n",
       "      <td>Agriculture Forestry and Other Land Use</td>\n",
       "      <td>VM0007</td>\n",
       "      <td>6404775</td>\n",
       "      <td>5250000</td>\n",
       "      <td>6709-333713222-338963221-VCU-048-APX-CO-14-156...</td>\n",
       "      <td>NaN</td>\n",
       "      <td>2019-05-21</td>\n",
       "      <td>primax colombia s.a identificada con nit: 860....</td>\n",
       "      <td>Compliance Requirements</td>\n",
       "      <td>PRIMAX COLOMBIA S.A identificada con Nit: 860....</td>\n",
       "      <td>2019</td>\n",
       "      <td>2019.0</td>\n",
       "    </tr>\n",
       "    <tr>\n",
       "      <th>3735</th>\n",
       "      <td>2021-09-20</td>\n",
       "      <td>NaN</td>\n",
       "      <td>2016-01-01</td>\n",
       "      <td>2019-12-31</td>\n",
       "      <td>1340</td>\n",
       "      <td>Bale Mountains Eco-region REDD+ project</td>\n",
       "      <td>Ethiopia</td>\n",
       "      <td>Agriculture Forestry and Other Land Use</td>\n",
       "      <td>VM0015</td>\n",
       "      <td>4438780</td>\n",
       "      <td>2850000</td>\n",
       "      <td>11279-306091154-308941153-VCS-VCU-1507-VER-ET-...</td>\n",
       "      <td>CCB-Gold</td>\n",
       "      <td>NaT</td>\n",
       "      <td>NaN</td>\n",
       "      <td>NaN</td>\n",
       "      <td>NaN</td>\n",
       "      <td>2021</td>\n",
       "      <td>NaN</td>\n",
       "    </tr>\n",
       "  </tbody>\n",
       "</table>\n",
       "</div>"
      ],
      "text/plain": [
       "      issuance_date sustainable_development_goals vintage_start vintage_end  \\\n",
       "49538    2019-05-21                           NaN    2016-01-01  2017-12-31   \n",
       "3735     2021-09-20                           NaN    2016-01-01  2019-12-31   \n",
       "\n",
       "         id                                               name   country  \\\n",
       "49538  1566  REDD+ Project Resguardo Indigena Unificado Sel...  Colombia   \n",
       "3735   1340            Bale Mountains Eco-region REDD+ project  Ethiopia   \n",
       "\n",
       "                                  project_type methodology  \\\n",
       "49538  Agriculture Forestry and Other Land Use      VM0007   \n",
       "3735   Agriculture Forestry and Other Land Use      VM0015   \n",
       "\n",
       "       total_vintage_quantity  quantity_issued  \\\n",
       "49538                 6404775          5250000   \n",
       "3735                  4438780          2850000   \n",
       "\n",
       "                                           serial_number  \\\n",
       "49538  6709-333713222-338963221-VCU-048-APX-CO-14-156...   \n",
       "3735   11279-306091154-308941153-VCS-VCU-1507-VER-ET-...   \n",
       "\n",
       "      additional_certifications retirement_cancellation_date  \\\n",
       "49538                       NaN                   2019-05-21   \n",
       "3735                   CCB-Gold                          NaT   \n",
       "\n",
       "                                  retirement_beneficiary  \\\n",
       "49538  primax colombia s.a identificada con nit: 860....   \n",
       "3735                                                 NaN   \n",
       "\n",
       "             retirement_reason  \\\n",
       "49538  Compliance Requirements   \n",
       "3735                       NaN   \n",
       "\n",
       "                                      retirement_details  issuance_year  \\\n",
       "49538  PRIMAX COLOMBIA S.A identificada con Nit: 860....           2019   \n",
       "3735                                                 NaN           2021   \n",
       "\n",
       "       retirement_year  \n",
       "49538           2019.0  \n",
       "3735               NaN  "
      ]
     },
     "execution_count": 12,
     "metadata": {},
     "output_type": "execute_result"
    }
   ],
   "source": [
    "verra_df.head(2)"
   ]
  },
  {
   "cell_type": "code",
   "execution_count": 13,
   "metadata": {},
   "outputs": [
    {
     "name": "stdout",
     "output_type": "stream",
     "text": [
      "<class 'pandas.core.frame.DataFrame'>\n",
      "Int64Index: 160708 entries, 49538 to 99285\n",
      "Data columns (total 19 columns):\n",
      " #   Column                         Non-Null Count   Dtype         \n",
      "---  ------                         --------------   -----         \n",
      " 0   issuance_date                  160708 non-null  datetime64[ns]\n",
      " 1   sustainable_development_goals  9461 non-null    object        \n",
      " 2   vintage_start                  160708 non-null  datetime64[ns]\n",
      " 3   vintage_end                    160708 non-null  datetime64[ns]\n",
      " 4   id                             160708 non-null  int64         \n",
      " 5   name                           160708 non-null  object        \n",
      " 6   country                        160708 non-null  object        \n",
      " 7   project_type                   160708 non-null  object        \n",
      " 8   methodology                    159077 non-null  object        \n",
      " 9   total_vintage_quantity         160708 non-null  int64         \n",
      " 10  quantity_issued                160708 non-null  int64         \n",
      " 11  serial_number                  160708 non-null  object        \n",
      " 12  additional_certifications      62130 non-null   object        \n",
      " 13  retirement_cancellation_date   147474 non-null  datetime64[ns]\n",
      " 14  retirement_beneficiary         44964 non-null   object        \n",
      " 15  retirement_reason              117642 non-null  object        \n",
      " 16  retirement_details             105977 non-null  object        \n",
      " 17  issuance_year                  160708 non-null  int64         \n",
      " 18  retirement_year                147474 non-null  float64       \n",
      "dtypes: datetime64[ns](4), float64(1), int64(4), object(10)\n",
      "memory usage: 24.5+ MB\n"
     ]
    }
   ],
   "source": [
    "verra_df.info()"
   ]
  },
  {
   "cell_type": "markdown",
   "metadata": {},
   "source": [
    "Now that all strings in beneficiary are lowercase, let's get rid of null values in the retirement column and then filter to only rows containing \"delta\" to try and pull only delta data"
   ]
  },
  {
   "cell_type": "code",
   "execution_count": 14,
   "metadata": {},
   "outputs": [],
   "source": [
    "verra_df = verra_df.loc[verra_df['retirement_beneficiary'].notnull()]"
   ]
  },
  {
   "cell_type": "code",
   "execution_count": 15,
   "metadata": {},
   "outputs": [],
   "source": [
    "delta1 = verra_df[verra_df['retirement_beneficiary'].str.contains('delta')]"
   ]
  },
  {
   "cell_type": "code",
   "execution_count": 16,
   "metadata": {},
   "outputs": [
    {
     "name": "stderr",
     "output_type": "stream",
     "text": [
      "<ipython-input-16-8065b3f86d26>:1: SettingWithCopyWarning: \n",
      "A value is trying to be set on a copy of a slice from a DataFrame.\n",
      "Try using .loc[row_indexer,col_indexer] = value instead\n",
      "\n",
      "See the caveats in the documentation: https://pandas.pydata.org/pandas-docs/stable/user_guide/indexing.html#returning-a-view-versus-a-copy\n",
      "  delta1['retirement_year'] = delta1['retirement_year'].astype(np.int64)\n"
     ]
    }
   ],
   "source": [
    "delta1['retirement_year'] = delta1['retirement_year'].astype(np.int64)"
   ]
  },
  {
   "cell_type": "code",
   "execution_count": 17,
   "metadata": {},
   "outputs": [
    {
     "data": {
      "text/plain": [
       "12728482"
      ]
     },
     "execution_count": 17,
     "metadata": {},
     "output_type": "execute_result"
    }
   ],
   "source": [
    "delta1.quantity_issued.sum()"
   ]
  },
  {
   "cell_type": "code",
   "execution_count": 18,
   "metadata": {},
   "outputs": [
    {
     "data": {
      "text/plain": [
       "delta air lines                                              198\n",
       "delta airlines                                                21\n",
       "delta air lines in partnership with grifols                    7\n",
       "delta air lines in partnership with roche/genentech            6\n",
       "delta air lines in partnership with erickson                   5\n",
       "delta air lines in partnership with intellectual ventures      5\n",
       "delta air lines in partnership with merck                      5\n",
       "delta air lines in partnership with adidasamerica              5\n",
       "delta air lines in partnership with ey                         5\n",
       "delta air lines in partnership with port of portland           5\n",
       "delta air lines in partnership with tableau                    5\n",
       "delta air lines in partnership with widen and kennedy          5\n",
       "delta air lines in partnership with vulcan                     4\n",
       "delta air lines in partnership with columbia sportswear        4\n",
       "delta air lines in partnership with netjets                    4\n",
       "delta air lines in partnership with standard insurance         4\n",
       "delta air lines, inc.                                          3\n",
       "delta air lies                                                 2\n",
       "delta air lines in partnership with ucb                        2\n",
       "delta container services co ltd                                1\n",
       "delta wilmar cis                                               1\n",
       "delta conship pvt ltd                                          1\n",
       "delta cargo s.l.                                               1\n",
       "delta air lines in partnership with unilever                   1\n",
       "delta energy                                                   1\n",
       "novodelta transitario s.a                                      1\n",
       "delta airlines & bill & melinda gates foundation               1\n",
       "Name: retirement_beneficiary, dtype: int64"
      ]
     },
     "execution_count": 18,
     "metadata": {},
     "output_type": "execute_result"
    }
   ],
   "source": [
    "delta1['retirement_beneficiary'].value_counts()"
   ]
  },
  {
   "cell_type": "code",
   "execution_count": 19,
   "metadata": {},
   "outputs": [],
   "source": [
    "issuance_by_year = delta1[['issuance_year','quantity_issued']]"
   ]
  },
  {
   "cell_type": "code",
   "execution_count": 20,
   "metadata": {},
   "outputs": [
    {
     "data": {
      "text/html": [
       "<div>\n",
       "<style scoped>\n",
       "    .dataframe tbody tr th:only-of-type {\n",
       "        vertical-align: middle;\n",
       "    }\n",
       "\n",
       "    .dataframe tbody tr th {\n",
       "        vertical-align: top;\n",
       "    }\n",
       "\n",
       "    .dataframe thead th {\n",
       "        text-align: right;\n",
       "    }\n",
       "</style>\n",
       "<table border=\"1\" class=\"dataframe\">\n",
       "  <thead>\n",
       "    <tr style=\"text-align: right;\">\n",
       "      <th></th>\n",
       "      <th>quantity_issued</th>\n",
       "    </tr>\n",
       "    <tr>\n",
       "      <th>issuance_year</th>\n",
       "      <th></th>\n",
       "    </tr>\n",
       "  </thead>\n",
       "  <tbody>\n",
       "    <tr>\n",
       "      <th>2011</th>\n",
       "      <td>1863</td>\n",
       "    </tr>\n",
       "    <tr>\n",
       "      <th>2012</th>\n",
       "      <td>589239</td>\n",
       "    </tr>\n",
       "    <tr>\n",
       "      <th>2013</th>\n",
       "      <td>34156</td>\n",
       "    </tr>\n",
       "    <tr>\n",
       "      <th>2014</th>\n",
       "      <td>53571</td>\n",
       "    </tr>\n",
       "    <tr>\n",
       "      <th>2015</th>\n",
       "      <td>878597</td>\n",
       "    </tr>\n",
       "    <tr>\n",
       "      <th>2016</th>\n",
       "      <td>1761110</td>\n",
       "    </tr>\n",
       "    <tr>\n",
       "      <th>2017</th>\n",
       "      <td>930390</td>\n",
       "    </tr>\n",
       "    <tr>\n",
       "      <th>2018</th>\n",
       "      <td>1707702</td>\n",
       "    </tr>\n",
       "    <tr>\n",
       "      <th>2019</th>\n",
       "      <td>5374265</td>\n",
       "    </tr>\n",
       "    <tr>\n",
       "      <th>2020</th>\n",
       "      <td>568633</td>\n",
       "    </tr>\n",
       "    <tr>\n",
       "      <th>2021</th>\n",
       "      <td>828956</td>\n",
       "    </tr>\n",
       "  </tbody>\n",
       "</table>\n",
       "</div>"
      ],
      "text/plain": [
       "               quantity_issued\n",
       "issuance_year                 \n",
       "2011                      1863\n",
       "2012                    589239\n",
       "2013                     34156\n",
       "2014                     53571\n",
       "2015                    878597\n",
       "2016                   1761110\n",
       "2017                    930390\n",
       "2018                   1707702\n",
       "2019                   5374265\n",
       "2020                    568633\n",
       "2021                    828956"
      ]
     },
     "execution_count": 20,
     "metadata": {},
     "output_type": "execute_result"
    }
   ],
   "source": [
    "issuance_by_year = issuance_by_year.groupby('issuance_year').sum()\n",
    "\n",
    "issuance_by_year"
   ]
  },
  {
   "cell_type": "code",
   "execution_count": 21,
   "metadata": {},
   "outputs": [],
   "source": [
    "issuance_by_year.reset_index(inplace=True)"
   ]
  },
  {
   "cell_type": "code",
   "execution_count": 22,
   "metadata": {},
   "outputs": [
    {
     "data": {
      "text/plain": [
       "12728482"
      ]
     },
     "execution_count": 22,
     "metadata": {},
     "output_type": "execute_result"
    }
   ],
   "source": [
    "issuance_by_year.quantity_issued.sum()"
   ]
  },
  {
   "cell_type": "code",
   "execution_count": 23,
   "metadata": {},
   "outputs": [
    {
     "data": {
      "text/html": [
       "<div>\n",
       "<style scoped>\n",
       "    .dataframe tbody tr th:only-of-type {\n",
       "        vertical-align: middle;\n",
       "    }\n",
       "\n",
       "    .dataframe tbody tr th {\n",
       "        vertical-align: top;\n",
       "    }\n",
       "\n",
       "    .dataframe thead th {\n",
       "        text-align: right;\n",
       "    }\n",
       "</style>\n",
       "<table border=\"1\" class=\"dataframe\">\n",
       "  <thead>\n",
       "    <tr style=\"text-align: right;\">\n",
       "      <th></th>\n",
       "      <th>issuance_year</th>\n",
       "      <th>quantity_issued</th>\n",
       "    </tr>\n",
       "  </thead>\n",
       "  <tbody>\n",
       "    <tr>\n",
       "      <th>0</th>\n",
       "      <td>2011</td>\n",
       "      <td>1863</td>\n",
       "    </tr>\n",
       "    <tr>\n",
       "      <th>1</th>\n",
       "      <td>2012</td>\n",
       "      <td>589239</td>\n",
       "    </tr>\n",
       "    <tr>\n",
       "      <th>2</th>\n",
       "      <td>2013</td>\n",
       "      <td>34156</td>\n",
       "    </tr>\n",
       "    <tr>\n",
       "      <th>3</th>\n",
       "      <td>2014</td>\n",
       "      <td>53571</td>\n",
       "    </tr>\n",
       "    <tr>\n",
       "      <th>4</th>\n",
       "      <td>2015</td>\n",
       "      <td>878597</td>\n",
       "    </tr>\n",
       "    <tr>\n",
       "      <th>5</th>\n",
       "      <td>2016</td>\n",
       "      <td>1761110</td>\n",
       "    </tr>\n",
       "    <tr>\n",
       "      <th>6</th>\n",
       "      <td>2017</td>\n",
       "      <td>930390</td>\n",
       "    </tr>\n",
       "    <tr>\n",
       "      <th>7</th>\n",
       "      <td>2018</td>\n",
       "      <td>1707702</td>\n",
       "    </tr>\n",
       "    <tr>\n",
       "      <th>8</th>\n",
       "      <td>2019</td>\n",
       "      <td>5374265</td>\n",
       "    </tr>\n",
       "    <tr>\n",
       "      <th>9</th>\n",
       "      <td>2020</td>\n",
       "      <td>568633</td>\n",
       "    </tr>\n",
       "    <tr>\n",
       "      <th>10</th>\n",
       "      <td>2021</td>\n",
       "      <td>828956</td>\n",
       "    </tr>\n",
       "  </tbody>\n",
       "</table>\n",
       "</div>"
      ],
      "text/plain": [
       "    issuance_year  quantity_issued\n",
       "0            2011             1863\n",
       "1            2012           589239\n",
       "2            2013            34156\n",
       "3            2014            53571\n",
       "4            2015           878597\n",
       "5            2016          1761110\n",
       "6            2017           930390\n",
       "7            2018          1707702\n",
       "8            2019          5374265\n",
       "9            2020           568633\n",
       "10           2021           828956"
      ]
     },
     "execution_count": 23,
     "metadata": {},
     "output_type": "execute_result"
    }
   ],
   "source": [
    "issuance_by_year"
   ]
  },
  {
   "cell_type": "code",
   "execution_count": 24,
   "metadata": {},
   "outputs": [],
   "source": [
    "retirement_by_year = delta1[['retirement_year','quantity_issued']]"
   ]
  },
  {
   "cell_type": "code",
   "execution_count": 25,
   "metadata": {},
   "outputs": [],
   "source": [
    "retirement_by_year = retirement_by_year.groupby('retirement_year').sum()\n",
    "\n"
   ]
  },
  {
   "cell_type": "code",
   "execution_count": 26,
   "metadata": {},
   "outputs": [],
   "source": [
    "retirement_by_year.reset_index(inplace=True)"
   ]
  },
  {
   "cell_type": "code",
   "execution_count": 27,
   "metadata": {},
   "outputs": [
    {
     "data": {
      "text/html": [
       "<div>\n",
       "<style scoped>\n",
       "    .dataframe tbody tr th:only-of-type {\n",
       "        vertical-align: middle;\n",
       "    }\n",
       "\n",
       "    .dataframe tbody tr th {\n",
       "        vertical-align: top;\n",
       "    }\n",
       "\n",
       "    .dataframe thead th {\n",
       "        text-align: right;\n",
       "    }\n",
       "</style>\n",
       "<table border=\"1\" class=\"dataframe\">\n",
       "  <thead>\n",
       "    <tr style=\"text-align: right;\">\n",
       "      <th></th>\n",
       "      <th>retirement_year</th>\n",
       "      <th>quantity_issued</th>\n",
       "    </tr>\n",
       "  </thead>\n",
       "  <tbody>\n",
       "    <tr>\n",
       "      <th>0</th>\n",
       "      <td>2014</td>\n",
       "      <td>34</td>\n",
       "    </tr>\n",
       "    <tr>\n",
       "      <th>1</th>\n",
       "      <td>2015</td>\n",
       "      <td>484000</td>\n",
       "    </tr>\n",
       "    <tr>\n",
       "      <th>2</th>\n",
       "      <td>2017</td>\n",
       "      <td>2381241</td>\n",
       "    </tr>\n",
       "    <tr>\n",
       "      <th>3</th>\n",
       "      <td>2018</td>\n",
       "      <td>2369645</td>\n",
       "    </tr>\n",
       "    <tr>\n",
       "      <th>4</th>\n",
       "      <td>2019</td>\n",
       "      <td>2945673</td>\n",
       "    </tr>\n",
       "    <tr>\n",
       "      <th>5</th>\n",
       "      <td>2020</td>\n",
       "      <td>1716145</td>\n",
       "    </tr>\n",
       "    <tr>\n",
       "      <th>6</th>\n",
       "      <td>2021</td>\n",
       "      <td>2504311</td>\n",
       "    </tr>\n",
       "    <tr>\n",
       "      <th>7</th>\n",
       "      <td>2022</td>\n",
       "      <td>327433</td>\n",
       "    </tr>\n",
       "  </tbody>\n",
       "</table>\n",
       "</div>"
      ],
      "text/plain": [
       "   retirement_year  quantity_issued\n",
       "0             2014               34\n",
       "1             2015           484000\n",
       "2             2017          2381241\n",
       "3             2018          2369645\n",
       "4             2019          2945673\n",
       "5             2020          1716145\n",
       "6             2021          2504311\n",
       "7             2022           327433"
      ]
     },
     "execution_count": 27,
     "metadata": {},
     "output_type": "execute_result"
    }
   ],
   "source": [
    "retirement_by_year"
   ]
  },
  {
   "cell_type": "code",
   "execution_count": 28,
   "metadata": {},
   "outputs": [],
   "source": [
    "supply_df = issuance_by_year.copy()"
   ]
  },
  {
   "cell_type": "code",
   "execution_count": 29,
   "metadata": {},
   "outputs": [],
   "source": [
    "supply_df['quantity_retired'] = retirement_by_year['quantity_issued']"
   ]
  },
  {
   "cell_type": "code",
   "execution_count": 30,
   "metadata": {},
   "outputs": [],
   "source": [
    "supply_df['quantity_retired'] = supply_df['quantity_retired'].fillna(0).astype(np.int64)"
   ]
  },
  {
   "cell_type": "code",
   "execution_count": 31,
   "metadata": {},
   "outputs": [
    {
     "data": {
      "text/html": [
       "<div>\n",
       "<style scoped>\n",
       "    .dataframe tbody tr th:only-of-type {\n",
       "        vertical-align: middle;\n",
       "    }\n",
       "\n",
       "    .dataframe tbody tr th {\n",
       "        vertical-align: top;\n",
       "    }\n",
       "\n",
       "    .dataframe thead th {\n",
       "        text-align: right;\n",
       "    }\n",
       "</style>\n",
       "<table border=\"1\" class=\"dataframe\">\n",
       "  <thead>\n",
       "    <tr style=\"text-align: right;\">\n",
       "      <th></th>\n",
       "      <th>issuance_year</th>\n",
       "      <th>quantity_issued</th>\n",
       "      <th>quantity_retired</th>\n",
       "    </tr>\n",
       "  </thead>\n",
       "  <tbody>\n",
       "    <tr>\n",
       "      <th>0</th>\n",
       "      <td>2011</td>\n",
       "      <td>1863</td>\n",
       "      <td>34</td>\n",
       "    </tr>\n",
       "    <tr>\n",
       "      <th>1</th>\n",
       "      <td>2012</td>\n",
       "      <td>589239</td>\n",
       "      <td>484000</td>\n",
       "    </tr>\n",
       "    <tr>\n",
       "      <th>2</th>\n",
       "      <td>2013</td>\n",
       "      <td>34156</td>\n",
       "      <td>2381241</td>\n",
       "    </tr>\n",
       "    <tr>\n",
       "      <th>3</th>\n",
       "      <td>2014</td>\n",
       "      <td>53571</td>\n",
       "      <td>2369645</td>\n",
       "    </tr>\n",
       "    <tr>\n",
       "      <th>4</th>\n",
       "      <td>2015</td>\n",
       "      <td>878597</td>\n",
       "      <td>2945673</td>\n",
       "    </tr>\n",
       "    <tr>\n",
       "      <th>5</th>\n",
       "      <td>2016</td>\n",
       "      <td>1761110</td>\n",
       "      <td>1716145</td>\n",
       "    </tr>\n",
       "    <tr>\n",
       "      <th>6</th>\n",
       "      <td>2017</td>\n",
       "      <td>930390</td>\n",
       "      <td>2504311</td>\n",
       "    </tr>\n",
       "    <tr>\n",
       "      <th>7</th>\n",
       "      <td>2018</td>\n",
       "      <td>1707702</td>\n",
       "      <td>327433</td>\n",
       "    </tr>\n",
       "    <tr>\n",
       "      <th>8</th>\n",
       "      <td>2019</td>\n",
       "      <td>5374265</td>\n",
       "      <td>0</td>\n",
       "    </tr>\n",
       "    <tr>\n",
       "      <th>9</th>\n",
       "      <td>2020</td>\n",
       "      <td>568633</td>\n",
       "      <td>0</td>\n",
       "    </tr>\n",
       "    <tr>\n",
       "      <th>10</th>\n",
       "      <td>2021</td>\n",
       "      <td>828956</td>\n",
       "      <td>0</td>\n",
       "    </tr>\n",
       "  </tbody>\n",
       "</table>\n",
       "</div>"
      ],
      "text/plain": [
       "    issuance_year  quantity_issued  quantity_retired\n",
       "0            2011             1863                34\n",
       "1            2012           589239            484000\n",
       "2            2013            34156           2381241\n",
       "3            2014            53571           2369645\n",
       "4            2015           878597           2945673\n",
       "5            2016          1761110           1716145\n",
       "6            2017           930390           2504311\n",
       "7            2018          1707702            327433\n",
       "8            2019          5374265                 0\n",
       "9            2020           568633                 0\n",
       "10           2021           828956                 0"
      ]
     },
     "execution_count": 31,
     "metadata": {},
     "output_type": "execute_result"
    }
   ],
   "source": [
    "supply_df"
   ]
  },
  {
   "cell_type": "code",
   "execution_count": 32,
   "metadata": {},
   "outputs": [],
   "source": [
    "supply_df['supply_eoy'] = supply_df['quantity_issued'] - supply_df['quantity_retired']"
   ]
  },
  {
   "cell_type": "code",
   "execution_count": 33,
   "metadata": {},
   "outputs": [],
   "source": [
    "supply_df.reset_index(inplace=True)"
   ]
  },
  {
   "cell_type": "code",
   "execution_count": 34,
   "metadata": {},
   "outputs": [],
   "source": [
    "# supply_df['supply_eoy'][0] = 1863\n",
    "# supply_df['supply_eoy'][1] = 591102\n",
    "# supply_df['supply_eoy'][2] = 625258\n",
    "# supply_df['supply_eoy'][3] = 678795\n",
    "# supply_df['supply_eoy'][4] = 1073392\n",
    "# supply_df['supply_eoy'][5] = 2834502\n",
    "# supply_df['supply_eoy'][6] = 1383651\n",
    "# supply_df['supply_eoy'][7] = 721708\n",
    "# supply_df['supply_eoy'][8] = 3150300\n",
    "# supply_df['supply_eoy'][9] = 2002788\n",
    "# supply_df['supply_eoy'][10] = 327433"
   ]
  },
  {
   "cell_type": "code",
   "execution_count": 35,
   "metadata": {},
   "outputs": [
    {
     "data": {
      "text/html": [
       "<div>\n",
       "<style scoped>\n",
       "    .dataframe tbody tr th:only-of-type {\n",
       "        vertical-align: middle;\n",
       "    }\n",
       "\n",
       "    .dataframe tbody tr th {\n",
       "        vertical-align: top;\n",
       "    }\n",
       "\n",
       "    .dataframe thead th {\n",
       "        text-align: right;\n",
       "    }\n",
       "</style>\n",
       "<table border=\"1\" class=\"dataframe\">\n",
       "  <thead>\n",
       "    <tr style=\"text-align: right;\">\n",
       "      <th></th>\n",
       "      <th>index</th>\n",
       "      <th>issuance_year</th>\n",
       "      <th>quantity_issued</th>\n",
       "      <th>quantity_retired</th>\n",
       "      <th>supply_eoy</th>\n",
       "    </tr>\n",
       "  </thead>\n",
       "  <tbody>\n",
       "    <tr>\n",
       "      <th>0</th>\n",
       "      <td>0</td>\n",
       "      <td>2011</td>\n",
       "      <td>1863</td>\n",
       "      <td>34</td>\n",
       "      <td>1829</td>\n",
       "    </tr>\n",
       "    <tr>\n",
       "      <th>1</th>\n",
       "      <td>1</td>\n",
       "      <td>2012</td>\n",
       "      <td>589239</td>\n",
       "      <td>484000</td>\n",
       "      <td>105239</td>\n",
       "    </tr>\n",
       "    <tr>\n",
       "      <th>2</th>\n",
       "      <td>2</td>\n",
       "      <td>2013</td>\n",
       "      <td>34156</td>\n",
       "      <td>2381241</td>\n",
       "      <td>-2347085</td>\n",
       "    </tr>\n",
       "    <tr>\n",
       "      <th>3</th>\n",
       "      <td>3</td>\n",
       "      <td>2014</td>\n",
       "      <td>53571</td>\n",
       "      <td>2369645</td>\n",
       "      <td>-2316074</td>\n",
       "    </tr>\n",
       "    <tr>\n",
       "      <th>4</th>\n",
       "      <td>4</td>\n",
       "      <td>2015</td>\n",
       "      <td>878597</td>\n",
       "      <td>2945673</td>\n",
       "      <td>-2067076</td>\n",
       "    </tr>\n",
       "    <tr>\n",
       "      <th>5</th>\n",
       "      <td>5</td>\n",
       "      <td>2016</td>\n",
       "      <td>1761110</td>\n",
       "      <td>1716145</td>\n",
       "      <td>44965</td>\n",
       "    </tr>\n",
       "    <tr>\n",
       "      <th>6</th>\n",
       "      <td>6</td>\n",
       "      <td>2017</td>\n",
       "      <td>930390</td>\n",
       "      <td>2504311</td>\n",
       "      <td>-1573921</td>\n",
       "    </tr>\n",
       "    <tr>\n",
       "      <th>7</th>\n",
       "      <td>7</td>\n",
       "      <td>2018</td>\n",
       "      <td>1707702</td>\n",
       "      <td>327433</td>\n",
       "      <td>1380269</td>\n",
       "    </tr>\n",
       "    <tr>\n",
       "      <th>8</th>\n",
       "      <td>8</td>\n",
       "      <td>2019</td>\n",
       "      <td>5374265</td>\n",
       "      <td>0</td>\n",
       "      <td>5374265</td>\n",
       "    </tr>\n",
       "    <tr>\n",
       "      <th>9</th>\n",
       "      <td>9</td>\n",
       "      <td>2020</td>\n",
       "      <td>568633</td>\n",
       "      <td>0</td>\n",
       "      <td>568633</td>\n",
       "    </tr>\n",
       "    <tr>\n",
       "      <th>10</th>\n",
       "      <td>10</td>\n",
       "      <td>2021</td>\n",
       "      <td>828956</td>\n",
       "      <td>0</td>\n",
       "      <td>828956</td>\n",
       "    </tr>\n",
       "  </tbody>\n",
       "</table>\n",
       "</div>"
      ],
      "text/plain": [
       "    index  issuance_year  quantity_issued  quantity_retired  supply_eoy\n",
       "0       0           2011             1863                34        1829\n",
       "1       1           2012           589239            484000      105239\n",
       "2       2           2013            34156           2381241    -2347085\n",
       "3       3           2014            53571           2369645    -2316074\n",
       "4       4           2015           878597           2945673    -2067076\n",
       "5       5           2016          1761110           1716145       44965\n",
       "6       6           2017           930390           2504311    -1573921\n",
       "7       7           2018          1707702            327433     1380269\n",
       "8       8           2019          5374265                 0     5374265\n",
       "9       9           2020           568633                 0      568633\n",
       "10     10           2021           828956                 0      828956"
      ]
     },
     "execution_count": 35,
     "metadata": {},
     "output_type": "execute_result"
    }
   ],
   "source": [
    "supply_df"
   ]
  },
  {
   "cell_type": "code",
   "execution_count": 36,
   "metadata": {},
   "outputs": [],
   "source": [
    "new_row = {'issuance_year':'Net',\n",
    "           'quantity_issued':supply_df.quantity_issued.sum(),\n",
    "           'supply_eoy':supply_df.supply_eoy.sum()}\n",
    "#append row to the dataframe\n",
    "supply_df = supply_df.append(new_row, ignore_index=True)"
   ]
  },
  {
   "cell_type": "code",
   "execution_count": 37,
   "metadata": {},
   "outputs": [
    {
     "data": {
      "text/html": [
       "<div>\n",
       "<style scoped>\n",
       "    .dataframe tbody tr th:only-of-type {\n",
       "        vertical-align: middle;\n",
       "    }\n",
       "\n",
       "    .dataframe tbody tr th {\n",
       "        vertical-align: top;\n",
       "    }\n",
       "\n",
       "    .dataframe thead th {\n",
       "        text-align: right;\n",
       "    }\n",
       "</style>\n",
       "<table border=\"1\" class=\"dataframe\">\n",
       "  <thead>\n",
       "    <tr style=\"text-align: right;\">\n",
       "      <th></th>\n",
       "      <th>index</th>\n",
       "      <th>issuance_year</th>\n",
       "      <th>quantity_issued</th>\n",
       "      <th>quantity_retired</th>\n",
       "      <th>supply_eoy</th>\n",
       "    </tr>\n",
       "  </thead>\n",
       "  <tbody>\n",
       "    <tr>\n",
       "      <th>0</th>\n",
       "      <td>0.0</td>\n",
       "      <td>2011</td>\n",
       "      <td>1863</td>\n",
       "      <td>34.0</td>\n",
       "      <td>1829</td>\n",
       "    </tr>\n",
       "    <tr>\n",
       "      <th>1</th>\n",
       "      <td>1.0</td>\n",
       "      <td>2012</td>\n",
       "      <td>589239</td>\n",
       "      <td>484000.0</td>\n",
       "      <td>105239</td>\n",
       "    </tr>\n",
       "    <tr>\n",
       "      <th>2</th>\n",
       "      <td>2.0</td>\n",
       "      <td>2013</td>\n",
       "      <td>34156</td>\n",
       "      <td>2381241.0</td>\n",
       "      <td>-2347085</td>\n",
       "    </tr>\n",
       "    <tr>\n",
       "      <th>3</th>\n",
       "      <td>3.0</td>\n",
       "      <td>2014</td>\n",
       "      <td>53571</td>\n",
       "      <td>2369645.0</td>\n",
       "      <td>-2316074</td>\n",
       "    </tr>\n",
       "    <tr>\n",
       "      <th>4</th>\n",
       "      <td>4.0</td>\n",
       "      <td>2015</td>\n",
       "      <td>878597</td>\n",
       "      <td>2945673.0</td>\n",
       "      <td>-2067076</td>\n",
       "    </tr>\n",
       "    <tr>\n",
       "      <th>5</th>\n",
       "      <td>5.0</td>\n",
       "      <td>2016</td>\n",
       "      <td>1761110</td>\n",
       "      <td>1716145.0</td>\n",
       "      <td>44965</td>\n",
       "    </tr>\n",
       "    <tr>\n",
       "      <th>6</th>\n",
       "      <td>6.0</td>\n",
       "      <td>2017</td>\n",
       "      <td>930390</td>\n",
       "      <td>2504311.0</td>\n",
       "      <td>-1573921</td>\n",
       "    </tr>\n",
       "    <tr>\n",
       "      <th>7</th>\n",
       "      <td>7.0</td>\n",
       "      <td>2018</td>\n",
       "      <td>1707702</td>\n",
       "      <td>327433.0</td>\n",
       "      <td>1380269</td>\n",
       "    </tr>\n",
       "    <tr>\n",
       "      <th>8</th>\n",
       "      <td>8.0</td>\n",
       "      <td>2019</td>\n",
       "      <td>5374265</td>\n",
       "      <td>0.0</td>\n",
       "      <td>5374265</td>\n",
       "    </tr>\n",
       "    <tr>\n",
       "      <th>9</th>\n",
       "      <td>9.0</td>\n",
       "      <td>2020</td>\n",
       "      <td>568633</td>\n",
       "      <td>0.0</td>\n",
       "      <td>568633</td>\n",
       "    </tr>\n",
       "    <tr>\n",
       "      <th>10</th>\n",
       "      <td>10.0</td>\n",
       "      <td>2021</td>\n",
       "      <td>828956</td>\n",
       "      <td>0.0</td>\n",
       "      <td>828956</td>\n",
       "    </tr>\n",
       "    <tr>\n",
       "      <th>11</th>\n",
       "      <td>NaN</td>\n",
       "      <td>Net</td>\n",
       "      <td>12728482</td>\n",
       "      <td>NaN</td>\n",
       "      <td>0</td>\n",
       "    </tr>\n",
       "  </tbody>\n",
       "</table>\n",
       "</div>"
      ],
      "text/plain": [
       "    index issuance_year  quantity_issued  quantity_retired  supply_eoy\n",
       "0     0.0          2011             1863              34.0        1829\n",
       "1     1.0          2012           589239          484000.0      105239\n",
       "2     2.0          2013            34156         2381241.0    -2347085\n",
       "3     3.0          2014            53571         2369645.0    -2316074\n",
       "4     4.0          2015           878597         2945673.0    -2067076\n",
       "5     5.0          2016          1761110         1716145.0       44965\n",
       "6     6.0          2017           930390         2504311.0    -1573921\n",
       "7     7.0          2018          1707702          327433.0     1380269\n",
       "8     8.0          2019          5374265               0.0     5374265\n",
       "9     9.0          2020           568633               0.0      568633\n",
       "10   10.0          2021           828956               0.0      828956\n",
       "11    NaN           Net         12728482               NaN           0"
      ]
     },
     "execution_count": 37,
     "metadata": {},
     "output_type": "execute_result"
    }
   ],
   "source": [
    "supply_df"
   ]
  },
  {
   "cell_type": "code",
   "execution_count": 38,
   "metadata": {},
   "outputs": [],
   "source": [
    "issuance_year_list = list(supply_df['issuance_year'][:11])\n",
    "\n",
    "credit_supply_list = list(supply_df['supply_eoy'][:11])"
   ]
  },
  {
   "cell_type": "code",
   "execution_count": 39,
   "metadata": {},
   "outputs": [],
   "source": [
    "issuance_year_list = [str(x) for x in issuance_year_list]"
   ]
  },
  {
   "cell_type": "code",
   "execution_count": 40,
   "metadata": {},
   "outputs": [],
   "source": [
    "credit_supply_list = [int(x)/1000000 for x in credit_supply_list]"
   ]
  },
  {
   "cell_type": "code",
   "execution_count": 41,
   "metadata": {},
   "outputs": [
    {
     "data": {
      "text/plain": [
       "<module 'matplotlib.pyplot' from '/Users/charlielosche/opt/anaconda3/envs/learn-env/lib/python3.8/site-packages/matplotlib/pyplot.py'>"
      ]
     },
     "execution_count": 41,
     "metadata": {},
     "output_type": "execute_result"
    },
    {
     "data": {
      "image/png": "[encoded data removed]",
      "text/plain": [
       "<Figure size 432x288 with 1 Axes>"
      ]
     },
     "metadata": {
      "needs_background": "light"
     },
     "output_type": "display_data"
    }
   ],
   "source": [
    "waterfall_chart.plot(issuance_year_list, credit_supply_list,\n",
    "                     net_label='Net Credits eoy')"
   ]
  },
  {
   "cell_type": "markdown",
   "metadata": {},
   "source": [
    "Hmmm, interesting, in the last few years, they have been spending their inventory of Verra Credits. This could be due to the new Corsia regs\n",
    "\n",
    " ------\n",
    " \n",
    " This information might be difficult to find with the given dataset"
   ]
  },
  {
   "cell_type": "markdown",
   "metadata": {},
   "source": [
    "# MOVING TO LOOK AT DELTA'S CREDIT BREAKDOWN BY YEAR"
   ]
  },
  {
   "cell_type": "markdown",
   "metadata": {},
   "source": [
    "### Reset Verra DF and Clean It"
   ]
  },
  {
   "cell_type": "code",
   "execution_count": 44,
   "metadata": {},
   "outputs": [],
   "source": [
    "verra_df = pd.read_csv('../Data/VCU_Registry_Result_V2_5.2.22 copy.csv',\n",
    "                      parse_dates = ['Issuance Date', 'Retirement/Cancellation Date', 'Vintage Start', 'Vintage End'])"
   ]
  },
  {
   "cell_type": "code",
   "execution_count": 45,
   "metadata": {},
   "outputs": [
    {
     "data": {
      "text/html": [
       "<div>\n",
       "<style scoped>\n",
       "    .dataframe tbody tr th:only-of-type {\n",
       "        vertical-align: middle;\n",
       "    }\n",
       "\n",
       "    .dataframe tbody tr th {\n",
       "        vertical-align: top;\n",
       "    }\n",
       "\n",
       "    .dataframe thead th {\n",
       "        text-align: right;\n",
       "    }\n",
       "</style>\n",
       "<table border=\"1\" class=\"dataframe\">\n",
       "  <thead>\n",
       "    <tr style=\"text-align: right;\">\n",
       "      <th></th>\n",
       "      <th>Issuance Date</th>\n",
       "      <th>Sustainable Development Goals</th>\n",
       "      <th>Vintage Start</th>\n",
       "      <th>Vintage End</th>\n",
       "      <th>ID</th>\n",
       "      <th>Name</th>\n",
       "      <th>Country</th>\n",
       "      <th>Project Type</th>\n",
       "      <th>Methodology</th>\n",
       "      <th>Total Vintage Quantity</th>\n",
       "      <th>Quantity Issued</th>\n",
       "      <th>Serial Number</th>\n",
       "      <th>Additional Certifications</th>\n",
       "      <th>Retirement/Cancellation Date</th>\n",
       "      <th>Retirement Beneficiary</th>\n",
       "      <th>Retirement Reason</th>\n",
       "      <th>Retirement Details</th>\n",
       "    </tr>\n",
       "  </thead>\n",
       "  <tbody>\n",
       "    <tr>\n",
       "      <th>0</th>\n",
       "      <td>2022-04-29</td>\n",
       "      <td>NaN</td>\n",
       "      <td>2020-01-11</td>\n",
       "      <td>2020-12-31</td>\n",
       "      <td>682</td>\n",
       "      <td>Wind Power Project at Anthiyur, Tamil Nadu</td>\n",
       "      <td>India</td>\n",
       "      <td>Energy industries (renewable/non-renewable sou...</td>\n",
       "      <td>AMS-I.D.</td>\n",
       "      <td>663</td>\n",
       "      <td>663</td>\n",
       "      <td>12990-464677897-464678559-VCS-VCU-997-VER-IN-1...</td>\n",
       "      <td>NaN</td>\n",
       "      <td>NaT</td>\n",
       "      <td>NaN</td>\n",
       "      <td>NaN</td>\n",
       "      <td>NaN</td>\n",
       "    </tr>\n",
       "    <tr>\n",
       "      <th>1</th>\n",
       "      <td>2022-04-29</td>\n",
       "      <td>NaN</td>\n",
       "      <td>2021-01-01</td>\n",
       "      <td>2021-08-31</td>\n",
       "      <td>682</td>\n",
       "      <td>Wind Power Project at Anthiyur, Tamil Nadu</td>\n",
       "      <td>India</td>\n",
       "      <td>Energy industries (renewable/non-renewable sou...</td>\n",
       "      <td>AMS-I.D.</td>\n",
       "      <td>22486</td>\n",
       "      <td>22486</td>\n",
       "      <td>12991-464678560-464701045-VCS-VCU-997-VER-IN-1...</td>\n",
       "      <td>NaN</td>\n",
       "      <td>NaT</td>\n",
       "      <td>NaN</td>\n",
       "      <td>NaN</td>\n",
       "      <td>NaN</td>\n",
       "    </tr>\n",
       "    <tr>\n",
       "      <th>2</th>\n",
       "      <td>2022-04-29</td>\n",
       "      <td>NaN</td>\n",
       "      <td>2020-08-28</td>\n",
       "      <td>2020-12-31</td>\n",
       "      <td>1319</td>\n",
       "      <td>Small-Scale Hydropower Project Sahanivotry In ...</td>\n",
       "      <td>Madagascar</td>\n",
       "      <td>Energy industries (renewable/non-renewable sou...</td>\n",
       "      <td>ACM0002</td>\n",
       "      <td>4773</td>\n",
       "      <td>4773</td>\n",
       "      <td>12992-464701046-464705818-VCS-VCU-997-VER-MG-1...</td>\n",
       "      <td>NaN</td>\n",
       "      <td>NaT</td>\n",
       "      <td>NaN</td>\n",
       "      <td>NaN</td>\n",
       "      <td>NaN</td>\n",
       "    </tr>\n",
       "    <tr>\n",
       "      <th>3</th>\n",
       "      <td>2022-04-29</td>\n",
       "      <td>NaN</td>\n",
       "      <td>2021-01-01</td>\n",
       "      <td>2021-09-30</td>\n",
       "      <td>1319</td>\n",
       "      <td>Small-Scale Hydropower Project Sahanivotry In ...</td>\n",
       "      <td>Madagascar</td>\n",
       "      <td>Energy industries (renewable/non-renewable sou...</td>\n",
       "      <td>ACM0002</td>\n",
       "      <td>20747</td>\n",
       "      <td>20747</td>\n",
       "      <td>12993-464705819-464726565-VCS-VCU-997-VER-MG-1...</td>\n",
       "      <td>NaN</td>\n",
       "      <td>NaT</td>\n",
       "      <td>NaN</td>\n",
       "      <td>NaN</td>\n",
       "      <td>NaN</td>\n",
       "    </tr>\n",
       "    <tr>\n",
       "      <th>4</th>\n",
       "      <td>2022-04-29</td>\n",
       "      <td>NaN</td>\n",
       "      <td>2016-01-01</td>\n",
       "      <td>2016-12-31</td>\n",
       "      <td>1408</td>\n",
       "      <td>Chyulu Hills REDD+ Project</td>\n",
       "      <td>Kenya</td>\n",
       "      <td>Agriculture Forestry and Other Land Use</td>\n",
       "      <td>VM0009</td>\n",
       "      <td>617707</td>\n",
       "      <td>70000</td>\n",
       "      <td>12994-464726566-464796565-VCS-VCU-263-VER-KE-1...</td>\n",
       "      <td>CCB-Biodiversity Gold; CCB-Climate Gold; CCB-C...</td>\n",
       "      <td>NaT</td>\n",
       "      <td>NaN</td>\n",
       "      <td>NaN</td>\n",
       "      <td>NaN</td>\n",
       "    </tr>\n",
       "  </tbody>\n",
       "</table>\n",
       "</div>"
      ],
      "text/plain": [
       "  Issuance Date Sustainable Development Goals Vintage Start Vintage End    ID  \\\n",
       "0    2022-04-29                           NaN    2020-01-11  2020-12-31   682   \n",
       "1    2022-04-29                           NaN    2021-01-01  2021-08-31   682   \n",
       "2    2022-04-29                           NaN    2020-08-28  2020-12-31  1319   \n",
       "3    2022-04-29                           NaN    2021-01-01  2021-09-30  1319   \n",
       "4    2022-04-29                           NaN    2016-01-01  2016-12-31  1408   \n",
       "\n",
       "                                                Name     Country  \\\n",
       "0         Wind Power Project at Anthiyur, Tamil Nadu       India   \n",
       "1         Wind Power Project at Anthiyur, Tamil Nadu       India   \n",
       "2  Small-Scale Hydropower Project Sahanivotry In ...  Madagascar   \n",
       "3  Small-Scale Hydropower Project Sahanivotry In ...  Madagascar   \n",
       "4                         Chyulu Hills REDD+ Project       Kenya   \n",
       "\n",
       "                                        Project Type Methodology  \\\n",
       "0  Energy industries (renewable/non-renewable sou...    AMS-I.D.   \n",
       "1  Energy industries (renewable/non-renewable sou...    AMS-I.D.   \n",
       "2  Energy industries (renewable/non-renewable sou...     ACM0002   \n",
       "3  Energy industries (renewable/non-renewable sou...     ACM0002   \n",
       "4            Agriculture Forestry and Other Land Use      VM0009   \n",
       "\n",
       "   Total Vintage Quantity  Quantity Issued  \\\n",
       "0                     663              663   \n",
       "1                   22486            22486   \n",
       "2                    4773             4773   \n",
       "3                   20747            20747   \n",
       "4                  617707            70000   \n",
       "\n",
       "                                       Serial Number  \\\n",
       "0  12990-464677897-464678559-VCS-VCU-997-VER-IN-1...   \n",
       "1  12991-464678560-464701045-VCS-VCU-997-VER-IN-1...   \n",
       "2  12992-464701046-464705818-VCS-VCU-997-VER-MG-1...   \n",
       "3  12993-464705819-464726565-VCS-VCU-997-VER-MG-1...   \n",
       "4  12994-464726566-464796565-VCS-VCU-263-VER-KE-1...   \n",
       "\n",
       "                           Additional Certifications  \\\n",
       "0                                                NaN   \n",
       "1                                                NaN   \n",
       "2                                                NaN   \n",
       "3                                                NaN   \n",
       "4  CCB-Biodiversity Gold; CCB-Climate Gold; CCB-C...   \n",
       "\n",
       "  Retirement/Cancellation Date Retirement Beneficiary Retirement Reason  \\\n",
       "0                          NaT                    NaN               NaN   \n",
       "1                          NaT                    NaN               NaN   \n",
       "2                          NaT                    NaN               NaN   \n",
       "3                          NaT                    NaN               NaN   \n",
       "4                          NaT                    NaN               NaN   \n",
       "\n",
       "  Retirement Details  \n",
       "0                NaN  \n",
       "1                NaN  \n",
       "2                NaN  \n",
       "3                NaN  \n",
       "4                NaN  "
      ]
     },
     "execution_count": 45,
     "metadata": {},
     "output_type": "execute_result"
    }
   ],
   "source": [
    "verra_df.head()"
   ]
  },
  {
   "cell_type": "markdown",
   "metadata": {},
   "source": [
    "First, cleaning column names"
   ]
  },
  {
   "cell_type": "code",
   "execution_count": 46,
   "metadata": {},
   "outputs": [],
   "source": [
    "#getting rid of spaces and slashes\n",
    "verra_df.columns = verra_df.columns.str.replace(\"\\/| |\\.\", '_', regex = True)\n",
    "verra_df.columns = verra_df.columns.str.lower()"
   ]
  },
  {
   "cell_type": "code",
   "execution_count": 47,
   "metadata": {},
   "outputs": [
    {
     "data": {
      "text/plain": [
       "Index(['issuance_date', 'sustainable_development_goals', 'vintage_start',\n",
       "       'vintage_end', 'id', 'name', 'country', 'project_type', 'methodology',\n",
       "       'total_vintage_quantity', 'quantity_issued', 'serial_number',\n",
       "       'additional_certifications', 'retirement_cancellation_date',\n",
       "       'retirement_beneficiary', 'retirement_reason', 'retirement_details'],\n",
       "      dtype='object')"
      ]
     },
     "execution_count": 47,
     "metadata": {},
     "output_type": "execute_result"
    }
   ],
   "source": [
    "verra_df.columns"
   ]
  },
  {
   "cell_type": "code",
   "execution_count": 48,
   "metadata": {},
   "outputs": [],
   "source": [
    "verra_df = verra_df.loc[verra_df['quantity_issued'].notnull()]"
   ]
  },
  {
   "cell_type": "code",
   "execution_count": 49,
   "metadata": {},
   "outputs": [],
   "source": [
    "verra_df.sort_values(by='quantity_issued',\n",
    "                    ascending=False,\n",
    "                    inplace=True)"
   ]
  },
  {
   "cell_type": "code",
   "execution_count": 50,
   "metadata": {},
   "outputs": [],
   "source": [
    "verra_df['issuance_year'] = pd.DatetimeIndex(verra_df['issuance_date']).year\n",
    "verra_df['retirement_year'] = pd.DatetimeIndex(verra_df['retirement_cancellation_date']).year"
   ]
  },
  {
   "cell_type": "code",
   "execution_count": 51,
   "metadata": {},
   "outputs": [],
   "source": [
    "verra_df['retirement_beneficiary'] = verra_df['retirement_beneficiary'].str.lower()"
   ]
  },
  {
   "cell_type": "markdown",
   "metadata": {},
   "source": [
    "Now that all strings in beneficiary are lowercase, let's get rid of null values in the retirement column and then filter to only rows containing \"delta\" to try and pull only delta data"
   ]
  },
  {
   "cell_type": "code",
   "execution_count": 52,
   "metadata": {},
   "outputs": [],
   "source": [
    "verra_df = verra_df.loc[verra_df['retirement_beneficiary'].notnull()]"
   ]
  },
  {
   "cell_type": "code",
   "execution_count": 53,
   "metadata": {},
   "outputs": [],
   "source": [
    "issuance_by_year = verra_df[verra_df['retirement_beneficiary'].str.contains('delta')]"
   ]
  },
  {
   "cell_type": "code",
   "execution_count": 54,
   "metadata": {},
   "outputs": [
    {
     "data": {
      "text/plain": [
       "Agriculture Forestry and Other Land Use                                          148\n",
       "Energy industries (renewable/non-renewable sources)                              131\n",
       "Energy industries (renewable/non-renewable sources); Manufacturing industries     16\n",
       "Livestock, enteric fermentation, and manure management                             8\n",
       "Name: project_type, dtype: int64"
      ]
     },
     "execution_count": 54,
     "metadata": {},
     "output_type": "execute_result"
    }
   ],
   "source": [
    "issuance_by_year['project_type'].value_counts()"
   ]
  },
  {
   "cell_type": "code",
   "execution_count": 55,
   "metadata": {},
   "outputs": [
    {
     "data": {
      "text/plain": [
       "12728482"
      ]
     },
     "execution_count": 55,
     "metadata": {},
     "output_type": "execute_result"
    }
   ],
   "source": [
    "issuance_by_year['quantity_issued'].sum()"
   ]
  },
  {
   "cell_type": "markdown",
   "metadata": {},
   "source": [
    "### With a clean dataframe of delta credits, create a new dataframe with the sum of credits by type"
   ]
  },
  {
   "cell_type": "markdown",
   "metadata": {},
   "source": [
    "First create a new dataframe of just project type, quantity issued, and retirement year for analysis"
   ]
  },
  {
   "cell_type": "code",
   "execution_count": 56,
   "metadata": {},
   "outputs": [],
   "source": [
    "delta_df = issuance_by_year[['project_type', 'retirement_year','quantity_issued']]"
   ]
  },
  {
   "cell_type": "code",
   "execution_count": 57,
   "metadata": {},
   "outputs": [],
   "source": [
    "proj_list = list(issuance_by_year['project_type'].str.split(';'))"
   ]
  },
  {
   "cell_type": "code",
   "execution_count": 58,
   "metadata": {},
   "outputs": [
    {
     "data": {
      "text/plain": [
       "list"
      ]
     },
     "execution_count": 58,
     "metadata": {},
     "output_type": "execute_result"
    }
   ],
   "source": [
    "type(proj_list)"
   ]
  },
  {
   "cell_type": "markdown",
   "metadata": {},
   "source": [
    "Updating a final list that only includes unique project types"
   ]
  },
  {
   "cell_type": "code",
   "execution_count": 59,
   "metadata": {},
   "outputs": [],
   "source": [
    "proj_list_final = []    \n",
    "\n",
    "for i in proj_list:\n",
    "    for proj in i:\n",
    "        if proj in proj_list_final:\n",
    "            continue\n",
    "        else:\n",
    "            proj_list_final.append(proj)"
   ]
  },
  {
   "cell_type": "code",
   "execution_count": 60,
   "metadata": {},
   "outputs": [
    {
     "data": {
      "text/plain": [
       "4"
      ]
     },
     "execution_count": 60,
     "metadata": {},
     "output_type": "execute_result"
    }
   ],
   "source": [
    "len(proj_list_final)"
   ]
  },
  {
   "cell_type": "code",
   "execution_count": 61,
   "metadata": {},
   "outputs": [
    {
     "data": {
      "text/plain": [
       "['Agriculture Forestry and Other Land Use',\n",
       " 'Energy industries (renewable/non-renewable sources)',\n",
       " ' Manufacturing industries',\n",
       " 'Livestock, enteric fermentation, and manure management']"
      ]
     },
     "execution_count": 61,
     "metadata": {},
     "output_type": "execute_result"
    }
   ],
   "source": [
    "proj_list_final"
   ]
  },
  {
   "cell_type": "code",
   "execution_count": 62,
   "metadata": {},
   "outputs": [],
   "source": [
    "typedict= {\n",
    "    'Agriculture Forestry and Other Land Use':'AFOLU',\n",
    "    'Livestock, enteric fermentation, and manure management':'Other nature-based sequestration, avoidance, or reduction',\n",
    "    'Energy industries (renewable/non-renewable sources)':'renewable/non-renewable offsets',\n",
    "    'Energy industries (renewable/non-renewable sources); Manufacturing industries':'renewable/non-renewable offsets',\n",
    "}"
   ]
  },
  {
   "cell_type": "markdown",
   "metadata": {},
   "source": [
    "# Now Update the Project type column using above dictionary"
   ]
  },
  {
   "cell_type": "code",
   "execution_count": 63,
   "metadata": {},
   "outputs": [
    {
     "data": {
      "text/html": [
       "<div>\n",
       "<style scoped>\n",
       "    .dataframe tbody tr th:only-of-type {\n",
       "        vertical-align: middle;\n",
       "    }\n",
       "\n",
       "    .dataframe tbody tr th {\n",
       "        vertical-align: top;\n",
       "    }\n",
       "\n",
       "    .dataframe thead th {\n",
       "        text-align: right;\n",
       "    }\n",
       "</style>\n",
       "<table border=\"1\" class=\"dataframe\">\n",
       "  <thead>\n",
       "    <tr style=\"text-align: right;\">\n",
       "      <th></th>\n",
       "      <th>project_type</th>\n",
       "      <th>retirement_year</th>\n",
       "      <th>quantity_issued</th>\n",
       "    </tr>\n",
       "  </thead>\n",
       "  <tbody>\n",
       "    <tr>\n",
       "      <th>52750</th>\n",
       "      <td>Agriculture Forestry and Other Land Use</td>\n",
       "      <td>2021.0</td>\n",
       "      <td>900000</td>\n",
       "    </tr>\n",
       "    <tr>\n",
       "      <th>68580</th>\n",
       "      <td>Energy industries (renewable/non-renewable sou...</td>\n",
       "      <td>2017.0</td>\n",
       "      <td>791250</td>\n",
       "    </tr>\n",
       "  </tbody>\n",
       "</table>\n",
       "</div>"
      ],
      "text/plain": [
       "                                            project_type  retirement_year  \\\n",
       "52750            Agriculture Forestry and Other Land Use           2021.0   \n",
       "68580  Energy industries (renewable/non-renewable sou...           2017.0   \n",
       "\n",
       "       quantity_issued  \n",
       "52750           900000  \n",
       "68580           791250  "
      ]
     },
     "execution_count": 63,
     "metadata": {},
     "output_type": "execute_result"
    }
   ],
   "source": [
    "delta_df.head(2)"
   ]
  },
  {
   "cell_type": "code",
   "execution_count": 64,
   "metadata": {},
   "outputs": [
    {
     "data": {
      "text/plain": [
       "Agriculture Forestry and Other Land Use                                          148\n",
       "Energy industries (renewable/non-renewable sources)                              131\n",
       "Energy industries (renewable/non-renewable sources); Manufacturing industries     16\n",
       "Livestock, enteric fermentation, and manure management                             8\n",
       "Name: project_type, dtype: int64"
      ]
     },
     "execution_count": 64,
     "metadata": {},
     "output_type": "execute_result"
    }
   ],
   "source": [
    "delta_df.project_type.value_counts()"
   ]
  },
  {
   "cell_type": "code",
   "execution_count": 65,
   "metadata": {},
   "outputs": [
    {
     "name": "stderr",
     "output_type": "stream",
     "text": [
      "<ipython-input-65-8190186128a9>:1: SettingWithCopyWarning: \n",
      "A value is trying to be set on a copy of a slice from a DataFrame.\n",
      "Try using .loc[row_indexer,col_indexer] = value instead\n",
      "\n",
      "See the caveats in the documentation: https://pandas.pydata.org/pandas-docs/stable/user_guide/indexing.html#returning-a-view-versus-a-copy\n",
      "  delta_df['project_type'] = delta_df['project_type'].map(typedict)\n"
     ]
    }
   ],
   "source": [
    "delta_df['project_type'] = delta_df['project_type'].map(typedict)"
   ]
  },
  {
   "cell_type": "code",
   "execution_count": 66,
   "metadata": {},
   "outputs": [
    {
     "data": {
      "text/plain": [
       "AFOLU                                                        148\n",
       "renewable/non-renewable offsets                              147\n",
       "Other nature-based sequestration, avoidance, or reduction      8\n",
       "Name: project_type, dtype: int64"
      ]
     },
     "execution_count": 66,
     "metadata": {},
     "output_type": "execute_result"
    }
   ],
   "source": [
    "delta_df.project_type.value_counts()"
   ]
  },
  {
   "cell_type": "code",
   "execution_count": 67,
   "metadata": {},
   "outputs": [
    {
     "data": {
      "text/html": [
       "<div>\n",
       "<style scoped>\n",
       "    .dataframe tbody tr th:only-of-type {\n",
       "        vertical-align: middle;\n",
       "    }\n",
       "\n",
       "    .dataframe tbody tr th {\n",
       "        vertical-align: top;\n",
       "    }\n",
       "\n",
       "    .dataframe thead th {\n",
       "        text-align: right;\n",
       "    }\n",
       "</style>\n",
       "<table border=\"1\" class=\"dataframe\">\n",
       "  <thead>\n",
       "    <tr style=\"text-align: right;\">\n",
       "      <th></th>\n",
       "      <th>project_type</th>\n",
       "      <th>retirement_year</th>\n",
       "      <th>quantity_issued</th>\n",
       "    </tr>\n",
       "  </thead>\n",
       "  <tbody>\n",
       "    <tr>\n",
       "      <th>52750</th>\n",
       "      <td>AFOLU</td>\n",
       "      <td>2021.0</td>\n",
       "      <td>900000</td>\n",
       "    </tr>\n",
       "    <tr>\n",
       "      <th>68580</th>\n",
       "      <td>renewable/non-renewable offsets</td>\n",
       "      <td>2017.0</td>\n",
       "      <td>791250</td>\n",
       "    </tr>\n",
       "    <tr>\n",
       "      <th>114747</th>\n",
       "      <td>renewable/non-renewable offsets</td>\n",
       "      <td>2015.0</td>\n",
       "      <td>450000</td>\n",
       "    </tr>\n",
       "    <tr>\n",
       "      <th>30213</th>\n",
       "      <td>AFOLU</td>\n",
       "      <td>2021.0</td>\n",
       "      <td>402793</td>\n",
       "    </tr>\n",
       "    <tr>\n",
       "      <th>49526</th>\n",
       "      <td>renewable/non-renewable offsets</td>\n",
       "      <td>2019.0</td>\n",
       "      <td>400000</td>\n",
       "    </tr>\n",
       "  </tbody>\n",
       "</table>\n",
       "</div>"
      ],
      "text/plain": [
       "                           project_type  retirement_year  quantity_issued\n",
       "52750                             AFOLU           2021.0           900000\n",
       "68580   renewable/non-renewable offsets           2017.0           791250\n",
       "114747  renewable/non-renewable offsets           2015.0           450000\n",
       "30213                             AFOLU           2021.0           402793\n",
       "49526   renewable/non-renewable offsets           2019.0           400000"
      ]
     },
     "execution_count": 67,
     "metadata": {},
     "output_type": "execute_result"
    }
   ],
   "source": [
    "delta_df.head()"
   ]
  },
  {
   "cell_type": "code",
   "execution_count": 68,
   "metadata": {},
   "outputs": [],
   "source": [
    "#group by both year and type so that all credits of that type are summed up for a given\n",
    "#company\n",
    "delta_df_1 = delta_df.groupby(['retirement_year', 'project_type']).sum()"
   ]
  },
  {
   "cell_type": "code",
   "execution_count": 69,
   "metadata": {},
   "outputs": [],
   "source": [
    "#sort list to see largest companies/types of credits\n",
    "delta_df_1.sort_values(by='quantity_issued',\n",
    "                 ascending=False,\n",
    "                 inplace=True)\n"
   ]
  },
  {
   "cell_type": "code",
   "execution_count": 70,
   "metadata": {},
   "outputs": [
    {
     "data": {
      "text/html": [
       "<div>\n",
       "<style scoped>\n",
       "    .dataframe tbody tr th:only-of-type {\n",
       "        vertical-align: middle;\n",
       "    }\n",
       "\n",
       "    .dataframe tbody tr th {\n",
       "        vertical-align: top;\n",
       "    }\n",
       "\n",
       "    .dataframe thead th {\n",
       "        text-align: right;\n",
       "    }\n",
       "</style>\n",
       "<table border=\"1\" class=\"dataframe\">\n",
       "  <thead>\n",
       "    <tr style=\"text-align: right;\">\n",
       "      <th></th>\n",
       "      <th>retirement_year</th>\n",
       "      <th>project_type</th>\n",
       "      <th>quantity_issued</th>\n",
       "    </tr>\n",
       "  </thead>\n",
       "  <tbody>\n",
       "    <tr>\n",
       "      <th>0</th>\n",
       "      <td>2019.0</td>\n",
       "      <td>renewable/non-renewable offsets</td>\n",
       "      <td>2772427</td>\n",
       "    </tr>\n",
       "    <tr>\n",
       "      <th>1</th>\n",
       "      <td>2021.0</td>\n",
       "      <td>AFOLU</td>\n",
       "      <td>2208552</td>\n",
       "    </tr>\n",
       "    <tr>\n",
       "      <th>2</th>\n",
       "      <td>2017.0</td>\n",
       "      <td>renewable/non-renewable offsets</td>\n",
       "      <td>2201506</td>\n",
       "    </tr>\n",
       "    <tr>\n",
       "      <th>3</th>\n",
       "      <td>2018.0</td>\n",
       "      <td>renewable/non-renewable offsets</td>\n",
       "      <td>1688639</td>\n",
       "    </tr>\n",
       "    <tr>\n",
       "      <th>4</th>\n",
       "      <td>2020.0</td>\n",
       "      <td>renewable/non-renewable offsets</td>\n",
       "      <td>1504500</td>\n",
       "    </tr>\n",
       "  </tbody>\n",
       "</table>\n",
       "</div>"
      ],
      "text/plain": [
       "   retirement_year                     project_type  quantity_issued\n",
       "0           2019.0  renewable/non-renewable offsets          2772427\n",
       "1           2021.0                            AFOLU          2208552\n",
       "2           2017.0  renewable/non-renewable offsets          2201506\n",
       "3           2018.0  renewable/non-renewable offsets          1688639\n",
       "4           2020.0  renewable/non-renewable offsets          1504500"
      ]
     },
     "execution_count": 70,
     "metadata": {},
     "output_type": "execute_result"
    }
   ],
   "source": [
    "delta_df_1.reset_index(inplace=True)\n",
    "delta_df_1.head()"
   ]
  },
  {
   "cell_type": "code",
   "execution_count": 71,
   "metadata": {},
   "outputs": [
    {
     "data": {
      "text/html": [
       "<div>\n",
       "<style scoped>\n",
       "    .dataframe tbody tr th:only-of-type {\n",
       "        vertical-align: middle;\n",
       "    }\n",
       "\n",
       "    .dataframe tbody tr th {\n",
       "        vertical-align: top;\n",
       "    }\n",
       "\n",
       "    .dataframe thead th {\n",
       "        text-align: right;\n",
       "    }\n",
       "</style>\n",
       "<table border=\"1\" class=\"dataframe\">\n",
       "  <thead>\n",
       "    <tr style=\"text-align: right;\">\n",
       "      <th>project_type</th>\n",
       "      <th>AFOLU</th>\n",
       "      <th>Other nature-based sequestration, avoidance, or reduction</th>\n",
       "      <th>renewable/non-renewable offsets</th>\n",
       "    </tr>\n",
       "    <tr>\n",
       "      <th>retirement_year</th>\n",
       "      <th></th>\n",
       "      <th></th>\n",
       "      <th></th>\n",
       "    </tr>\n",
       "  </thead>\n",
       "  <tbody>\n",
       "    <tr>\n",
       "      <th>2014.0</th>\n",
       "      <td>NaN</td>\n",
       "      <td>NaN</td>\n",
       "      <td>34.0</td>\n",
       "    </tr>\n",
       "    <tr>\n",
       "      <th>2015.0</th>\n",
       "      <td>NaN</td>\n",
       "      <td>NaN</td>\n",
       "      <td>484000.0</td>\n",
       "    </tr>\n",
       "    <tr>\n",
       "      <th>2017.0</th>\n",
       "      <td>13662.0</td>\n",
       "      <td>166073.0</td>\n",
       "      <td>2201506.0</td>\n",
       "    </tr>\n",
       "    <tr>\n",
       "      <th>2018.0</th>\n",
       "      <td>681006.0</td>\n",
       "      <td>NaN</td>\n",
       "      <td>1688639.0</td>\n",
       "    </tr>\n",
       "    <tr>\n",
       "      <th>2019.0</th>\n",
       "      <td>173246.0</td>\n",
       "      <td>NaN</td>\n",
       "      <td>2772427.0</td>\n",
       "    </tr>\n",
       "    <tr>\n",
       "      <th>2020.0</th>\n",
       "      <td>211645.0</td>\n",
       "      <td>NaN</td>\n",
       "      <td>1504500.0</td>\n",
       "    </tr>\n",
       "    <tr>\n",
       "      <th>2021.0</th>\n",
       "      <td>2208552.0</td>\n",
       "      <td>NaN</td>\n",
       "      <td>295759.0</td>\n",
       "    </tr>\n",
       "    <tr>\n",
       "      <th>2022.0</th>\n",
       "      <td>NaN</td>\n",
       "      <td>NaN</td>\n",
       "      <td>327433.0</td>\n",
       "    </tr>\n",
       "  </tbody>\n",
       "</table>\n",
       "</div>"
      ],
      "text/plain": [
       "project_type         AFOLU  \\\n",
       "retirement_year              \n",
       "2014.0                 NaN   \n",
       "2015.0                 NaN   \n",
       "2017.0             13662.0   \n",
       "2018.0            681006.0   \n",
       "2019.0            173246.0   \n",
       "2020.0            211645.0   \n",
       "2021.0           2208552.0   \n",
       "2022.0                 NaN   \n",
       "\n",
       "project_type     Other nature-based sequestration, avoidance, or reduction  \\\n",
       "retirement_year                                                              \n",
       "2014.0                                                         NaN           \n",
       "2015.0                                                         NaN           \n",
       "2017.0                                                    166073.0           \n",
       "2018.0                                                         NaN           \n",
       "2019.0                                                         NaN           \n",
       "2020.0                                                         NaN           \n",
       "2021.0                                                         NaN           \n",
       "2022.0                                                         NaN           \n",
       "\n",
       "project_type     renewable/non-renewable offsets  \n",
       "retirement_year                                   \n",
       "2014.0                                      34.0  \n",
       "2015.0                                  484000.0  \n",
       "2017.0                                 2201506.0  \n",
       "2018.0                                 1688639.0  \n",
       "2019.0                                 2772427.0  \n",
       "2020.0                                 1504500.0  \n",
       "2021.0                                  295759.0  \n",
       "2022.0                                  327433.0  "
      ]
     },
     "execution_count": 71,
     "metadata": {},
     "output_type": "execute_result"
    }
   ],
   "source": [
    "delta_f = delta_df_1.pivot(index='retirement_year', columns='project_type', values='quantity_issued')\n",
    "delta_f"
   ]
  },
  {
   "cell_type": "code",
   "execution_count": 72,
   "metadata": {},
   "outputs": [
    {
     "data": {
      "text/html": [
       "<div>\n",
       "<style scoped>\n",
       "    .dataframe tbody tr th:only-of-type {\n",
       "        vertical-align: middle;\n",
       "    }\n",
       "\n",
       "    .dataframe tbody tr th {\n",
       "        vertical-align: top;\n",
       "    }\n",
       "\n",
       "    .dataframe thead th {\n",
       "        text-align: right;\n",
       "    }\n",
       "</style>\n",
       "<table border=\"1\" class=\"dataframe\">\n",
       "  <thead>\n",
       "    <tr style=\"text-align: right;\">\n",
       "      <th>project_type</th>\n",
       "      <th>retirement_year</th>\n",
       "      <th>AFOLU</th>\n",
       "      <th>Other nature-based sequestration, avoidance, or reduction</th>\n",
       "      <th>renewable/non-renewable offsets</th>\n",
       "    </tr>\n",
       "  </thead>\n",
       "  <tbody>\n",
       "    <tr>\n",
       "      <th>0</th>\n",
       "      <td>2014.0</td>\n",
       "      <td>0.0</td>\n",
       "      <td>0.0</td>\n",
       "      <td>34.0</td>\n",
       "    </tr>\n",
       "    <tr>\n",
       "      <th>1</th>\n",
       "      <td>2015.0</td>\n",
       "      <td>0.0</td>\n",
       "      <td>0.0</td>\n",
       "      <td>484000.0</td>\n",
       "    </tr>\n",
       "    <tr>\n",
       "      <th>2</th>\n",
       "      <td>2017.0</td>\n",
       "      <td>13662.0</td>\n",
       "      <td>166073.0</td>\n",
       "      <td>2201506.0</td>\n",
       "    </tr>\n",
       "    <tr>\n",
       "      <th>3</th>\n",
       "      <td>2018.0</td>\n",
       "      <td>681006.0</td>\n",
       "      <td>0.0</td>\n",
       "      <td>1688639.0</td>\n",
       "    </tr>\n",
       "    <tr>\n",
       "      <th>4</th>\n",
       "      <td>2019.0</td>\n",
       "      <td>173246.0</td>\n",
       "      <td>0.0</td>\n",
       "      <td>2772427.0</td>\n",
       "    </tr>\n",
       "  </tbody>\n",
       "</table>\n",
       "</div>"
      ],
      "text/plain": [
       "project_type  retirement_year     AFOLU  \\\n",
       "0                      2014.0       0.0   \n",
       "1                      2015.0       0.0   \n",
       "2                      2017.0   13662.0   \n",
       "3                      2018.0  681006.0   \n",
       "4                      2019.0  173246.0   \n",
       "\n",
       "project_type  Other nature-based sequestration, avoidance, or reduction  \\\n",
       "0                                                           0.0           \n",
       "1                                                           0.0           \n",
       "2                                                      166073.0           \n",
       "3                                                           0.0           \n",
       "4                                                           0.0           \n",
       "\n",
       "project_type  renewable/non-renewable offsets  \n",
       "0                                        34.0  \n",
       "1                                    484000.0  \n",
       "2                                   2201506.0  \n",
       "3                                   1688639.0  \n",
       "4                                   2772427.0  "
      ]
     },
     "execution_count": 72,
     "metadata": {},
     "output_type": "execute_result"
    }
   ],
   "source": [
    "delta_f = delta_f.fillna(0)\n",
    "delta_f.reset_index(inplace=True)\n",
    "\n",
    "delta_f.head()"
   ]
  },
  {
   "cell_type": "code",
   "execution_count": 73,
   "metadata": {},
   "outputs": [
    {
     "name": "stderr",
     "output_type": "stream",
     "text": [
      "<ipython-input-73-6a2269d9593f>:16: UserWarning: FixedFormatter should only be used together with FixedLocator\n",
      "  plot.set_yticklabels(ylabels)\n"
     ]
    },
    {
     "data": {
      "text/plain": [
       "<matplotlib.legend.Legend at 0x7fd902865a00>"
      ]
     },
     "execution_count": 73,
     "metadata": {},
     "output_type": "execute_result"
    },
    {
     "data": {
      "image/png": "[encoded data removed]",
      "text/plain": [
       "<Figure size 720x1080 with 1 Axes>"
      ]
     },
     "metadata": {},
     "output_type": "display_data"
    }
   ],
   "source": [
    "sns.set(style=\"darkgrid\")\n",
    "\n",
    "sns.color_palette(\"rocket\")\n",
    "\n",
    "sns.set(rc = {'figure.figsize':(10,15)})\n",
    "\n",
    "#create stacked bar chart\n",
    "plot = delta_f.set_index('retirement_year').plot(kind='bar', stacked=True)\n",
    "\n",
    "#add overall title\n",
    "plt.title('Delta Retired Credits by Type and Year', fontsize=16)\n",
    "\n",
    "#update y axis from scientific notation\n",
    "plot.ticklabel_format(style='plain', scilimits=(0,20), axis='y')\n",
    "ylabels = ['{:,.0f}'.format(y) + ' MM' for y in plot.get_yticks()/1000000]\n",
    "plot.set_yticklabels(ylabels)\n",
    "\n",
    "#add axis titles\n",
    "plt.xlabel('Year Retired')\n",
    "plt.ylabel('Number of Credits Retired')\n",
    "plt.legend(loc='upper left')"
   ]
  }
 ],
 "metadata": {
  "kernelspec": {
   "display_name": "Python (learn-env)",
   "language": "python",
   "name": "learn-env"
  },
  "language_info": {
   "codemirror_mode": {
    "name": "ipython",
    "version": 3
   },
   "file_extension": ".py",
   "mimetype": "text/x-python",
   "name": "python",
   "nbconvert_exporter": "python",
   "pygments_lexer": "ipython3",
   "version": "3.8.5"
  }
 },
 "nbformat": 4,
 "nbformat_minor": 4
}
